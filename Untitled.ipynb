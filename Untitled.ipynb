{
 "cells": [
  {
   "cell_type": "markdown",
   "metadata": {},
   "source": [
    "# SparkCognition \n",
    "### Introduction:\n",
    "In this assignment, I am going to create the script to answer the following questions. Based on the data available in .csv file provided, please try and answer the questions below: <br>\n",
    "1.Explain what you understand from the data provided, provide exploratory insights.\n",
    "\n",
    "2.What is your approach if you have to dynamically change the pricing for In-Flight WiFi? – Technical approach will suffice.\n",
    "\n",
    "3.What are the statistical/ predictive methodologies that could be applied with the data you have – Please implement one model & explain the output.\n"
   ]
  },
  {
   "cell_type": "markdown",
   "metadata": {},
   "source": [
    "## Source Code\n",
    "###### Table of contents\n",
    "1. [Import Library](#library)\n",
    "2. [Read Data](#data)\n",
    "3. [Exploratory Data Analysis](#eda)\n",
    "    1. [Check Missing Data](#missingdata)\n",
    "    2. [Plot The Statistics of Features](#statisticsfeature)\n",
    "3. [Modeling](#Modeling)"
   ]
  },
  {
   "cell_type": "markdown",
   "metadata": {},
   "source": [
    "## 1. Import Libraries<a name=\"library\"></a>"
   ]
  },
  {
   "cell_type": "code",
   "execution_count": 453,
   "metadata": {},
   "outputs": [],
   "source": [
    "import pandas as pd\n",
    "pd.set_option('display.max_columns', 500)\n",
    "import numpy as np\n",
    "import matplotlib.pyplot as plt\n",
    "import seaborn as sns\n",
    "from datetime import datetime\n",
    "import time\n",
    "from collections import Counter\n",
    "import openpyxl\n",
    "from sklearn.impute import SimpleImputer\n",
    "from sklearn.preprocessing import StandardScaler, MinMaxScaler\n",
    "from sklearn.model_selection import train_test_split\n",
    "from sklearn.metrics import confusion_matrix, precision_score, recall_score, f1_score, make_scorer, roc_auc_score,accuracy_score, roc_curve\n",
    "from sklearn.model_selection import cross_val_score\n",
    "from sklearn.linear_model import SGDClassifier\n",
    "from sklearn.pipeline import Pipeline\n",
    "from sklearn.model_selection import GridSearchCV, cross_val_score\n",
    "from sklearn.ensemble import RandomForestClassifier\n",
    "from sklearn import metrics\n",
    "from sklearn.metrics import classification_report\n",
    "\n",
    "from imblearn.over_sampling import SMOTE\n",
    "\n",
    "import xgboost as xgb\n",
    "\n",
    "\n",
    "from hyperopt import hp\n",
    "from hyperopt import fmin, tpe, hp, STATUS_OK, Trials\n",
    "\n",
    "from scipy.stats import pearsonr\n",
    "%matplotlib inline\n",
    "import warnings\n",
    "warnings.filterwarnings('ignore')"
   ]
  },
  {
   "cell_type": "markdown",
   "metadata": {},
   "source": [
    "## 2. Read Data<a name=\"data\"></a>"
   ]
  },
  {
   "cell_type": "code",
   "execution_count": 12,
   "metadata": {},
   "outputs": [],
   "source": [
    "#import the data\n",
    "train_file = 'Data_Challenge.csv'\n",
    "df_total = pd.read_csv(train_file)"
   ]
  },
  {
   "cell_type": "code",
   "execution_count": 36,
   "metadata": {
    "scrolled": true
   },
   "outputs": [
    {
     "data": {
      "text/html": [
       "<div>\n",
       "<style scoped>\n",
       "    .dataframe tbody tr th:only-of-type {\n",
       "        vertical-align: middle;\n",
       "    }\n",
       "\n",
       "    .dataframe tbody tr th {\n",
       "        vertical-align: top;\n",
       "    }\n",
       "\n",
       "    .dataframe thead th {\n",
       "        text-align: right;\n",
       "    }\n",
       "</style>\n",
       "<table border=\"1\" class=\"dataframe\">\n",
       "  <thead>\n",
       "    <tr style=\"text-align: right;\">\n",
       "      <th></th>\n",
       "      <th>Route</th>\n",
       "      <th>Flight Count</th>\n",
       "      <th>flight per week 1</th>\n",
       "      <th>flights per week 2</th>\n",
       "      <th>flights per week 3</th>\n",
       "      <th>flights per month 1</th>\n",
       "      <th>flights per month 2</th>\n",
       "      <th>flights per month 3</th>\n",
       "      <th>First Flow</th>\n",
       "      <th>Last Flown</th>\n",
       "      <th>Airline Count</th>\n",
       "      <th>First Airline</th>\n",
       "      <th>Last Airline</th>\n",
       "      <th>Aircraft Type Count</th>\n",
       "      <th>First Aircraft Type</th>\n",
       "      <th>Average of Avg - Flight Duration (MB)</th>\n",
       "      <th>Min of Min - Flight Duration (Hrs)</th>\n",
       "      <th>Max of Max - Flight Duration (Hrs)</th>\n",
       "      <th>Avg - Seat Count</th>\n",
       "      <th>Min - Seat Count</th>\n",
       "      <th>Max - Seat Count</th>\n",
       "      <th>Price per User</th>\n",
       "      <th>avg(a.Price)</th>\n",
       "      <th>min(a.Price)</th>\n",
       "      <th>max(a.Price)</th>\n",
       "      <th>Average Usage (MB)</th>\n",
       "      <th>Min - Usage (MB)</th>\n",
       "      <th>Max - Usage (MB)</th>\n",
       "      <th>Total Usage (MB)</th>\n",
       "      <th>Usage per Flight (MB)</th>\n",
       "      <th>Usage (MB)/ Min</th>\n",
       "      <th>Min - Total Users</th>\n",
       "      <th>Max - Total Users</th>\n",
       "    </tr>\n",
       "  </thead>\n",
       "  <tbody>\n",
       "    <tr>\n",
       "      <th>0</th>\n",
       "      <td>HND-CTS</td>\n",
       "      <td>5303</td>\n",
       "      <td>107.0</td>\n",
       "      <td>111.0</td>\n",
       "      <td>106.0</td>\n",
       "      <td>466.0</td>\n",
       "      <td>470.0</td>\n",
       "      <td>421.0</td>\n",
       "      <td>7/1/2017 0:20</td>\n",
       "      <td>7/25/2018 23:25</td>\n",
       "      <td>1</td>\n",
       "      <td>ANA</td>\n",
       "      <td>ANA</td>\n",
       "      <td>13</td>\n",
       "      <td>321-100</td>\n",
       "      <td>1.213551</td>\n",
       "      <td>1.00</td>\n",
       "      <td>2.37</td>\n",
       "      <td>294.0011</td>\n",
       "      <td>160</td>\n",
       "      <td>405</td>\n",
       "      <td>$41.91</td>\n",
       "      <td>$33.30</td>\n",
       "      <td>$0.00</td>\n",
       "      <td>$1,050.00</td>\n",
       "      <td>632.930836</td>\n",
       "      <td>0.47</td>\n",
       "      <td>3880.100098</td>\n",
       "      <td>2764008.962</td>\n",
       "      <td>521.216097</td>\n",
       "      <td>7.158661</td>\n",
       "      <td>1.0</td>\n",
       "      <td>131.0</td>\n",
       "    </tr>\n",
       "    <tr>\n",
       "      <th>1</th>\n",
       "      <td>CTS-HND</td>\n",
       "      <td>5272</td>\n",
       "      <td>110.0</td>\n",
       "      <td>112.0</td>\n",
       "      <td>109.0</td>\n",
       "      <td>453.0</td>\n",
       "      <td>455.0</td>\n",
       "      <td>402.0</td>\n",
       "      <td>7/1/2017 0:40</td>\n",
       "      <td>7/25/2018 23:39</td>\n",
       "      <td>1</td>\n",
       "      <td>ANA</td>\n",
       "      <td>ANA</td>\n",
       "      <td>13</td>\n",
       "      <td>321-100</td>\n",
       "      <td>1.332418</td>\n",
       "      <td>0.02</td>\n",
       "      <td>2.72</td>\n",
       "      <td>294.6015</td>\n",
       "      <td>160</td>\n",
       "      <td>405</td>\n",
       "      <td>$43.63</td>\n",
       "      <td>$34.61</td>\n",
       "      <td>$0.00</td>\n",
       "      <td>$1,050.00</td>\n",
       "      <td>682.004798</td>\n",
       "      <td>0.00</td>\n",
       "      <td>4876.830078</td>\n",
       "      <td>2946942.732</td>\n",
       "      <td>558.980033</td>\n",
       "      <td>6.992207</td>\n",
       "      <td>1.0</td>\n",
       "      <td>120.0</td>\n",
       "    </tr>\n",
       "    <tr>\n",
       "      <th>2</th>\n",
       "      <td>HND-FUK</td>\n",
       "      <td>4520</td>\n",
       "      <td>89.0</td>\n",
       "      <td>104.0</td>\n",
       "      <td>101.0</td>\n",
       "      <td>430.0</td>\n",
       "      <td>452.0</td>\n",
       "      <td>426.0</td>\n",
       "      <td>7/1/2017 2:48</td>\n",
       "      <td>7/25/2018 22:37</td>\n",
       "      <td>1</td>\n",
       "      <td>ANA</td>\n",
       "      <td>ANA</td>\n",
       "      <td>13</td>\n",
       "      <td>321-100</td>\n",
       "      <td>1.540102</td>\n",
       "      <td>0.02</td>\n",
       "      <td>2.37</td>\n",
       "      <td>269.5684</td>\n",
       "      <td>160</td>\n",
       "      <td>405</td>\n",
       "      <td>$51.63</td>\n",
       "      <td>$39.33</td>\n",
       "      <td>$0.00</td>\n",
       "      <td>$1,050.00</td>\n",
       "      <td>942.603377</td>\n",
       "      <td>0.52</td>\n",
       "      <td>6166.009766</td>\n",
       "      <td>3898607.567</td>\n",
       "      <td>862.523798</td>\n",
       "      <td>9.334047</td>\n",
       "      <td>1.0</td>\n",
       "      <td>159.0</td>\n",
       "    </tr>\n",
       "    <tr>\n",
       "      <th>3</th>\n",
       "      <td>FUK-HND</td>\n",
       "      <td>4475</td>\n",
       "      <td>87.0</td>\n",
       "      <td>96.0</td>\n",
       "      <td>99.0</td>\n",
       "      <td>424.0</td>\n",
       "      <td>446.0</td>\n",
       "      <td>434.0</td>\n",
       "      <td>7/1/2017 1:28</td>\n",
       "      <td>7/25/2018 23:13</td>\n",
       "      <td>1</td>\n",
       "      <td>ANA</td>\n",
       "      <td>ANA</td>\n",
       "      <td>13</td>\n",
       "      <td>321-100</td>\n",
       "      <td>1.301446</td>\n",
       "      <td>0.02</td>\n",
       "      <td>2.38</td>\n",
       "      <td>270.3182</td>\n",
       "      <td>160</td>\n",
       "      <td>405</td>\n",
       "      <td>$42.05</td>\n",
       "      <td>$32.63</td>\n",
       "      <td>$0.00</td>\n",
       "      <td>$1,050.00</td>\n",
       "      <td>768.836601</td>\n",
       "      <td>0.02</td>\n",
       "      <td>4267.200195</td>\n",
       "      <td>3075346.402</td>\n",
       "      <td>687.228246</td>\n",
       "      <td>8.800785</td>\n",
       "      <td>1.0</td>\n",
       "      <td>163.0</td>\n",
       "    </tr>\n",
       "    <tr>\n",
       "      <th>4</th>\n",
       "      <td>HND-ITM</td>\n",
       "      <td>3796</td>\n",
       "      <td>71.0</td>\n",
       "      <td>91.0</td>\n",
       "      <td>80.0</td>\n",
       "      <td>362.0</td>\n",
       "      <td>391.0</td>\n",
       "      <td>362.0</td>\n",
       "      <td>7/1/2017 0:20</td>\n",
       "      <td>7/25/2018 22:23</td>\n",
       "      <td>1</td>\n",
       "      <td>ANA</td>\n",
       "      <td>ANA</td>\n",
       "      <td>13</td>\n",
       "      <td>321-100</td>\n",
       "      <td>0.801815</td>\n",
       "      <td>0.38</td>\n",
       "      <td>2.95</td>\n",
       "      <td>267.9903</td>\n",
       "      <td>160</td>\n",
       "      <td>405</td>\n",
       "      <td>$19.23</td>\n",
       "      <td>$13.64</td>\n",
       "      <td>$0.00</td>\n",
       "      <td>$1,050.00</td>\n",
       "      <td>596.727214</td>\n",
       "      <td>0.00</td>\n",
       "      <td>4787.140137</td>\n",
       "      <td>1768699.461</td>\n",
       "      <td>465.937687</td>\n",
       "      <td>9.684393</td>\n",
       "      <td>1.0</td>\n",
       "      <td>132.0</td>\n",
       "    </tr>\n",
       "  </tbody>\n",
       "</table>\n",
       "</div>"
      ],
      "text/plain": [
       "     Route  Flight Count  flight per week 1  flights per week 2  \\\n",
       "0  HND-CTS          5303              107.0               111.0   \n",
       "1  CTS-HND          5272              110.0               112.0   \n",
       "2  HND-FUK          4520               89.0               104.0   \n",
       "3  FUK-HND          4475               87.0                96.0   \n",
       "4  HND-ITM          3796               71.0                91.0   \n",
       "\n",
       "   flights per week 3  flights per month 1  flights per month 2  \\\n",
       "0               106.0                466.0                470.0   \n",
       "1               109.0                453.0                455.0   \n",
       "2               101.0                430.0                452.0   \n",
       "3                99.0                424.0                446.0   \n",
       "4                80.0                362.0                391.0   \n",
       "\n",
       "   flights per month 3     First Flow       Last Flown  Airline Count  \\\n",
       "0                421.0  7/1/2017 0:20  7/25/2018 23:25              1   \n",
       "1                402.0  7/1/2017 0:40  7/25/2018 23:39              1   \n",
       "2                426.0  7/1/2017 2:48  7/25/2018 22:37              1   \n",
       "3                434.0  7/1/2017 1:28  7/25/2018 23:13              1   \n",
       "4                362.0  7/1/2017 0:20  7/25/2018 22:23              1   \n",
       "\n",
       "  First Airline Last Airline  Aircraft Type Count First Aircraft Type  \\\n",
       "0           ANA          ANA                   13             321-100   \n",
       "1           ANA          ANA                   13             321-100   \n",
       "2           ANA          ANA                   13             321-100   \n",
       "3           ANA          ANA                   13             321-100   \n",
       "4           ANA          ANA                   13             321-100   \n",
       "\n",
       "   Average of Avg - Flight Duration (MB)  Min of Min - Flight Duration (Hrs)  \\\n",
       "0                               1.213551                                1.00   \n",
       "1                               1.332418                                0.02   \n",
       "2                               1.540102                                0.02   \n",
       "3                               1.301446                                0.02   \n",
       "4                               0.801815                                0.38   \n",
       "\n",
       "   Max of Max - Flight Duration (Hrs)  Avg - Seat Count  Min - Seat Count  \\\n",
       "0                                2.37          294.0011               160   \n",
       "1                                2.72          294.6015               160   \n",
       "2                                2.37          269.5684               160   \n",
       "3                                2.38          270.3182               160   \n",
       "4                                2.95          267.9903               160   \n",
       "\n",
       "   Max - Seat Count Price per User avg(a.Price) min(a.Price) max(a.Price)  \\\n",
       "0               405        $41.91       $33.30        $0.00    $1,050.00    \n",
       "1               405        $43.63       $34.61        $0.00    $1,050.00    \n",
       "2               405        $51.63       $39.33        $0.00    $1,050.00    \n",
       "3               405        $42.05       $32.63        $0.00    $1,050.00    \n",
       "4               405        $19.23       $13.64        $0.00    $1,050.00    \n",
       "\n",
       "   Average Usage (MB)  Min - Usage (MB)  Max - Usage (MB)  Total Usage (MB)  \\\n",
       "0          632.930836              0.47       3880.100098       2764008.962   \n",
       "1          682.004798              0.00       4876.830078       2946942.732   \n",
       "2          942.603377              0.52       6166.009766       3898607.567   \n",
       "3          768.836601              0.02       4267.200195       3075346.402   \n",
       "4          596.727214              0.00       4787.140137       1768699.461   \n",
       "\n",
       "   Usage per Flight (MB)  Usage (MB)/ Min  Min - Total Users  \\\n",
       "0             521.216097         7.158661                1.0   \n",
       "1             558.980033         6.992207                1.0   \n",
       "2             862.523798         9.334047                1.0   \n",
       "3             687.228246         8.800785                1.0   \n",
       "4             465.937687         9.684393                1.0   \n",
       "\n",
       "   Max - Total Users  \n",
       "0              131.0  \n",
       "1              120.0  \n",
       "2              159.0  \n",
       "3              163.0  \n",
       "4              132.0  "
      ]
     },
     "execution_count": 36,
     "metadata": {},
     "output_type": "execute_result"
    }
   ],
   "source": [
    "#check the data sample\n",
    "df_total.head()"
   ]
  },
  {
   "cell_type": "code",
   "execution_count": 455,
   "metadata": {},
   "outputs": [
    {
     "data": {
      "text/html": [
       "<div>\n",
       "<style scoped>\n",
       "    .dataframe tbody tr th:only-of-type {\n",
       "        vertical-align: middle;\n",
       "    }\n",
       "\n",
       "    .dataframe tbody tr th {\n",
       "        vertical-align: top;\n",
       "    }\n",
       "\n",
       "    .dataframe thead th {\n",
       "        text-align: right;\n",
       "    }\n",
       "</style>\n",
       "<table border=\"1\" class=\"dataframe\">\n",
       "  <thead>\n",
       "    <tr style=\"text-align: right;\">\n",
       "      <th></th>\n",
       "      <th>Flight Count</th>\n",
       "      <th>flight per week 1</th>\n",
       "      <th>flights per week 2</th>\n",
       "      <th>flights per week 3</th>\n",
       "      <th>flights per month 1</th>\n",
       "      <th>flights per month 2</th>\n",
       "      <th>flights per month 3</th>\n",
       "      <th>Airline Count</th>\n",
       "      <th>Aircraft Type Count</th>\n",
       "      <th>Average of Avg - Flight Duration (MB)</th>\n",
       "      <th>Min of Min - Flight Duration (Hrs)</th>\n",
       "      <th>Max of Max - Flight Duration (Hrs)</th>\n",
       "      <th>Avg - Seat Count</th>\n",
       "      <th>Min - Seat Count</th>\n",
       "      <th>Max - Seat Count</th>\n",
       "      <th>Price per User</th>\n",
       "      <th>avg(a.Price)</th>\n",
       "      <th>min(a.Price)</th>\n",
       "      <th>max(a.Price)</th>\n",
       "      <th>Average Usage (MB)</th>\n",
       "      <th>Min - Usage (MB)</th>\n",
       "      <th>Max - Usage (MB)</th>\n",
       "      <th>Total Usage (MB)</th>\n",
       "      <th>Usage per Flight (MB)</th>\n",
       "      <th>Usage (MB)/ Min</th>\n",
       "      <th>Min - Total Users</th>\n",
       "      <th>Max - Total Users</th>\n",
       "    </tr>\n",
       "  </thead>\n",
       "  <tbody>\n",
       "    <tr>\n",
       "      <th>count</th>\n",
       "      <td>5316.000000</td>\n",
       "      <td>1959.000000</td>\n",
       "      <td>1941.000000</td>\n",
       "      <td>1915.000000</td>\n",
       "      <td>2639.000000</td>\n",
       "      <td>2525.000000</td>\n",
       "      <td>2747.000000</td>\n",
       "      <td>5316.000000</td>\n",
       "      <td>5316.000000</td>\n",
       "      <td>5316.000000</td>\n",
       "      <td>5316.000000</td>\n",
       "      <td>5316.000000</td>\n",
       "      <td>5316.000000</td>\n",
       "      <td>5316.000000</td>\n",
       "      <td>5316.000000</td>\n",
       "      <td>3944.000000</td>\n",
       "      <td>3944.000000</td>\n",
       "      <td>3944.000000</td>\n",
       "      <td>3944.000000</td>\n",
       "      <td>3539.000000</td>\n",
       "      <td>3539.000000</td>\n",
       "      <td>3539.000000</td>\n",
       "      <td>3.539000e+03</td>\n",
       "      <td>3539.000000</td>\n",
       "      <td>3539.000000</td>\n",
       "      <td>3543.000000</td>\n",
       "      <td>3543.000000</td>\n",
       "    </tr>\n",
       "    <tr>\n",
       "      <th>mean</th>\n",
       "      <td>107.502822</td>\n",
       "      <td>6.262379</td>\n",
       "      <td>6.358063</td>\n",
       "      <td>6.325849</td>\n",
       "      <td>19.568776</td>\n",
       "      <td>20.123564</td>\n",
       "      <td>17.384783</td>\n",
       "      <td>1.072423</td>\n",
       "      <td>1.506772</td>\n",
       "      <td>3.881559</td>\n",
       "      <td>3.556057</td>\n",
       "      <td>4.270275</td>\n",
       "      <td>210.641401</td>\n",
       "      <td>195.774831</td>\n",
       "      <td>224.496426</td>\n",
       "      <td>12.429389</td>\n",
       "      <td>11.059019</td>\n",
       "      <td>3.522982</td>\n",
       "      <td>71.366062</td>\n",
       "      <td>776.745391</td>\n",
       "      <td>289.472513</td>\n",
       "      <td>2631.343981</td>\n",
       "      <td>1.061819e+05</td>\n",
       "      <td>512.666553</td>\n",
       "      <td>2.392100</td>\n",
       "      <td>2.988710</td>\n",
       "      <td>15.141123</td>\n",
       "    </tr>\n",
       "    <tr>\n",
       "      <th>std</th>\n",
       "      <td>294.557007</td>\n",
       "      <td>8.880984</td>\n",
       "      <td>9.394343</td>\n",
       "      <td>9.210832</td>\n",
       "      <td>35.369946</td>\n",
       "      <td>36.500784</td>\n",
       "      <td>32.964393</td>\n",
       "      <td>0.299613</td>\n",
       "      <td>1.317139</td>\n",
       "      <td>3.406577</td>\n",
       "      <td>3.232923</td>\n",
       "      <td>3.670808</td>\n",
       "      <td>69.953495</td>\n",
       "      <td>73.342680</td>\n",
       "      <td>77.705415</td>\n",
       "      <td>35.695487</td>\n",
       "      <td>33.751234</td>\n",
       "      <td>26.474233</td>\n",
       "      <td>229.295430</td>\n",
       "      <td>1176.768397</td>\n",
       "      <td>841.564929</td>\n",
       "      <td>6798.329804</td>\n",
       "      <td>3.741418e+05</td>\n",
       "      <td>997.213779</td>\n",
       "      <td>7.966507</td>\n",
       "      <td>5.139927</td>\n",
       "      <td>17.581539</td>\n",
       "    </tr>\n",
       "    <tr>\n",
       "      <th>min</th>\n",
       "      <td>1.000000</td>\n",
       "      <td>1.000000</td>\n",
       "      <td>1.000000</td>\n",
       "      <td>1.000000</td>\n",
       "      <td>1.000000</td>\n",
       "      <td>1.000000</td>\n",
       "      <td>1.000000</td>\n",
       "      <td>1.000000</td>\n",
       "      <td>1.000000</td>\n",
       "      <td>0.070000</td>\n",
       "      <td>0.000000</td>\n",
       "      <td>0.070000</td>\n",
       "      <td>3.000000</td>\n",
       "      <td>3.000000</td>\n",
       "      <td>3.000000</td>\n",
       "      <td>0.000000</td>\n",
       "      <td>0.000000</td>\n",
       "      <td>0.000000</td>\n",
       "      <td>0.000000</td>\n",
       "      <td>0.020000</td>\n",
       "      <td>0.000000</td>\n",
       "      <td>0.020000</td>\n",
       "      <td>2.000000e-02</td>\n",
       "      <td>0.002778</td>\n",
       "      <td>0.000067</td>\n",
       "      <td>1.000000</td>\n",
       "      <td>1.000000</td>\n",
       "    </tr>\n",
       "    <tr>\n",
       "      <th>25%</th>\n",
       "      <td>1.000000</td>\n",
       "      <td>1.000000</td>\n",
       "      <td>1.000000</td>\n",
       "      <td>1.000000</td>\n",
       "      <td>2.000000</td>\n",
       "      <td>2.000000</td>\n",
       "      <td>2.000000</td>\n",
       "      <td>1.000000</td>\n",
       "      <td>1.000000</td>\n",
       "      <td>1.309000</td>\n",
       "      <td>1.150000</td>\n",
       "      <td>1.530000</td>\n",
       "      <td>167.500000</td>\n",
       "      <td>160.000000</td>\n",
       "      <td>175.000000</td>\n",
       "      <td>3.500000</td>\n",
       "      <td>3.407500</td>\n",
       "      <td>0.000000</td>\n",
       "      <td>8.000000</td>\n",
       "      <td>95.955035</td>\n",
       "      <td>3.135000</td>\n",
       "      <td>227.430000</td>\n",
       "      <td>4.841700e+02</td>\n",
       "      <td>39.996188</td>\n",
       "      <td>0.244200</td>\n",
       "      <td>1.000000</td>\n",
       "      <td>4.000000</td>\n",
       "    </tr>\n",
       "    <tr>\n",
       "      <th>50%</th>\n",
       "      <td>11.000000</td>\n",
       "      <td>4.000000</td>\n",
       "      <td>4.000000</td>\n",
       "      <td>4.000000</td>\n",
       "      <td>7.000000</td>\n",
       "      <td>7.000000</td>\n",
       "      <td>5.000000</td>\n",
       "      <td>1.000000</td>\n",
       "      <td>1.000000</td>\n",
       "      <td>2.537848</td>\n",
       "      <td>2.280000</td>\n",
       "      <td>2.870000</td>\n",
       "      <td>180.000000</td>\n",
       "      <td>175.000000</td>\n",
       "      <td>182.000000</td>\n",
       "      <td>8.400000</td>\n",
       "      <td>7.220000</td>\n",
       "      <td>0.000000</td>\n",
       "      <td>18.990000</td>\n",
       "      <td>316.798306</td>\n",
       "      <td>20.000000</td>\n",
       "      <td>1052.270020</td>\n",
       "      <td>3.999510e+03</td>\n",
       "      <td>166.912312</td>\n",
       "      <td>0.868669</td>\n",
       "      <td>1.000000</td>\n",
       "      <td>10.000000</td>\n",
       "    </tr>\n",
       "    <tr>\n",
       "      <th>75%</th>\n",
       "      <td>78.000000</td>\n",
       "      <td>7.000000</td>\n",
       "      <td>7.000000</td>\n",
       "      <td>7.000000</td>\n",
       "      <td>28.000000</td>\n",
       "      <td>28.000000</td>\n",
       "      <td>25.000000</td>\n",
       "      <td>1.000000</td>\n",
       "      <td>2.000000</td>\n",
       "      <td>5.570000</td>\n",
       "      <td>5.050000</td>\n",
       "      <td>6.070000</td>\n",
       "      <td>266.000000</td>\n",
       "      <td>256.000000</td>\n",
       "      <td>280.000000</td>\n",
       "      <td>14.370000</td>\n",
       "      <td>12.182500</td>\n",
       "      <td>4.990000</td>\n",
       "      <td>20.000000</td>\n",
       "      <td>909.208601</td>\n",
       "      <td>146.180000</td>\n",
       "      <td>2918.265015</td>\n",
       "      <td>3.651976e+04</td>\n",
       "      <td>447.006610</td>\n",
       "      <td>2.317932</td>\n",
       "      <td>3.000000</td>\n",
       "      <td>19.000000</td>\n",
       "    </tr>\n",
       "    <tr>\n",
       "      <th>max</th>\n",
       "      <td>5303.000000</td>\n",
       "      <td>110.000000</td>\n",
       "      <td>112.000000</td>\n",
       "      <td>109.000000</td>\n",
       "      <td>466.000000</td>\n",
       "      <td>470.000000</td>\n",
       "      <td>434.000000</td>\n",
       "      <td>4.000000</td>\n",
       "      <td>15.000000</td>\n",
       "      <td>17.820000</td>\n",
       "      <td>17.820000</td>\n",
       "      <td>23.400000</td>\n",
       "      <td>417.000000</td>\n",
       "      <td>417.000000</td>\n",
       "      <td>438.000000</td>\n",
       "      <td>825.000000</td>\n",
       "      <td>750.000000</td>\n",
       "      <td>550.000000</td>\n",
       "      <td>1050.000000</td>\n",
       "      <td>14419.870120</td>\n",
       "      <td>14419.870120</td>\n",
       "      <td>275852.812500</td>\n",
       "      <td>6.240478e+06</td>\n",
       "      <td>14419.870120</td>\n",
       "      <td>284.316992</td>\n",
       "      <td>96.000000</td>\n",
       "      <td>175.000000</td>\n",
       "    </tr>\n",
       "  </tbody>\n",
       "</table>\n",
       "</div>"
      ],
      "text/plain": [
       "       Flight Count  flight per week 1  flights per week 2  \\\n",
       "count   5316.000000        1959.000000         1941.000000   \n",
       "mean     107.502822           6.262379            6.358063   \n",
       "std      294.557007           8.880984            9.394343   \n",
       "min        1.000000           1.000000            1.000000   \n",
       "25%        1.000000           1.000000            1.000000   \n",
       "50%       11.000000           4.000000            4.000000   \n",
       "75%       78.000000           7.000000            7.000000   \n",
       "max     5303.000000         110.000000          112.000000   \n",
       "\n",
       "       flights per week 3  flights per month 1  flights per month 2  \\\n",
       "count         1915.000000          2639.000000          2525.000000   \n",
       "mean             6.325849            19.568776            20.123564   \n",
       "std              9.210832            35.369946            36.500784   \n",
       "min              1.000000             1.000000             1.000000   \n",
       "25%              1.000000             2.000000             2.000000   \n",
       "50%              4.000000             7.000000             7.000000   \n",
       "75%              7.000000            28.000000            28.000000   \n",
       "max            109.000000           466.000000           470.000000   \n",
       "\n",
       "       flights per month 3  Airline Count  Aircraft Type Count  \\\n",
       "count          2747.000000    5316.000000          5316.000000   \n",
       "mean             17.384783       1.072423             1.506772   \n",
       "std              32.964393       0.299613             1.317139   \n",
       "min               1.000000       1.000000             1.000000   \n",
       "25%               2.000000       1.000000             1.000000   \n",
       "50%               5.000000       1.000000             1.000000   \n",
       "75%              25.000000       1.000000             2.000000   \n",
       "max             434.000000       4.000000            15.000000   \n",
       "\n",
       "       Average of Avg - Flight Duration (MB)  \\\n",
       "count                            5316.000000   \n",
       "mean                                3.881559   \n",
       "std                                 3.406577   \n",
       "min                                 0.070000   \n",
       "25%                                 1.309000   \n",
       "50%                                 2.537848   \n",
       "75%                                 5.570000   \n",
       "max                                17.820000   \n",
       "\n",
       "       Min of Min - Flight Duration (Hrs)  Max of Max - Flight Duration (Hrs)  \\\n",
       "count                         5316.000000                         5316.000000   \n",
       "mean                             3.556057                            4.270275   \n",
       "std                              3.232923                            3.670808   \n",
       "min                              0.000000                            0.070000   \n",
       "25%                              1.150000                            1.530000   \n",
       "50%                              2.280000                            2.870000   \n",
       "75%                              5.050000                            6.070000   \n",
       "max                             17.820000                           23.400000   \n",
       "\n",
       "       Avg - Seat Count  Min - Seat Count  Max - Seat Count  Price per User  \\\n",
       "count       5316.000000       5316.000000       5316.000000     3944.000000   \n",
       "mean         210.641401        195.774831        224.496426       12.429389   \n",
       "std           69.953495         73.342680         77.705415       35.695487   \n",
       "min            3.000000          3.000000          3.000000        0.000000   \n",
       "25%          167.500000        160.000000        175.000000        3.500000   \n",
       "50%          180.000000        175.000000        182.000000        8.400000   \n",
       "75%          266.000000        256.000000        280.000000       14.370000   \n",
       "max          417.000000        417.000000        438.000000      825.000000   \n",
       "\n",
       "       avg(a.Price)  min(a.Price)  max(a.Price)  Average Usage (MB)  \\\n",
       "count   3944.000000   3944.000000   3944.000000         3539.000000   \n",
       "mean      11.059019      3.522982     71.366062          776.745391   \n",
       "std       33.751234     26.474233    229.295430         1176.768397   \n",
       "min        0.000000      0.000000      0.000000            0.020000   \n",
       "25%        3.407500      0.000000      8.000000           95.955035   \n",
       "50%        7.220000      0.000000     18.990000          316.798306   \n",
       "75%       12.182500      4.990000     20.000000          909.208601   \n",
       "max      750.000000    550.000000   1050.000000        14419.870120   \n",
       "\n",
       "       Min - Usage (MB)  Max - Usage (MB)  Total Usage (MB)  \\\n",
       "count       3539.000000       3539.000000      3.539000e+03   \n",
       "mean         289.472513       2631.343981      1.061819e+05   \n",
       "std          841.564929       6798.329804      3.741418e+05   \n",
       "min            0.000000          0.020000      2.000000e-02   \n",
       "25%            3.135000        227.430000      4.841700e+02   \n",
       "50%           20.000000       1052.270020      3.999510e+03   \n",
       "75%          146.180000       2918.265015      3.651976e+04   \n",
       "max        14419.870120     275852.812500      6.240478e+06   \n",
       "\n",
       "       Usage per Flight (MB)  Usage (MB)/ Min  Min - Total Users  \\\n",
       "count            3539.000000      3539.000000        3543.000000   \n",
       "mean              512.666553         2.392100           2.988710   \n",
       "std               997.213779         7.966507           5.139927   \n",
       "min                 0.002778         0.000067           1.000000   \n",
       "25%                39.996188         0.244200           1.000000   \n",
       "50%               166.912312         0.868669           1.000000   \n",
       "75%               447.006610         2.317932           3.000000   \n",
       "max             14419.870120       284.316992          96.000000   \n",
       "\n",
       "       Max - Total Users  \n",
       "count        3543.000000  \n",
       "mean           15.141123  \n",
       "std            17.581539  \n",
       "min             1.000000  \n",
       "25%             4.000000  \n",
       "50%            10.000000  \n",
       "75%            19.000000  \n",
       "max           175.000000  "
      ]
     },
     "execution_count": 455,
     "metadata": {},
     "output_type": "execute_result"
    }
   ],
   "source": [
    "#examine the statistics of data features\n",
    "df_total.describe()"
   ]
  },
  {
   "cell_type": "code",
   "execution_count": 456,
   "metadata": {
    "scrolled": true
   },
   "outputs": [
    {
     "data": {
      "text/plain": [
       "(5316, 33)"
      ]
     },
     "execution_count": 456,
     "metadata": {},
     "output_type": "execute_result"
    }
   ],
   "source": [
    "#check data size\n",
    "df_total.shape"
   ]
  },
  {
   "cell_type": "code",
   "execution_count": 457,
   "metadata": {},
   "outputs": [
    {
     "name": "stdout",
     "output_type": "stream",
     "text": [
      "<class 'pandas.core.frame.DataFrame'>\n",
      "RangeIndex: 5316 entries, 0 to 5315\n",
      "Data columns (total 33 columns):\n",
      " #   Column                                 Non-Null Count  Dtype  \n",
      "---  ------                                 --------------  -----  \n",
      " 0   Route                                  5316 non-null   object \n",
      " 1   Flight Count                           5316 non-null   int64  \n",
      " 2   flight per week 1                      1959 non-null   float64\n",
      " 3   flights per week 2                     1941 non-null   float64\n",
      " 4   flights per week 3                     1915 non-null   float64\n",
      " 5   flights per month 1                    2639 non-null   float64\n",
      " 6   flights per month 2                    2525 non-null   float64\n",
      " 7   flights per month 3                    2747 non-null   float64\n",
      " 8   First Flow                             5316 non-null   object \n",
      " 9   Last Flown                             5316 non-null   object \n",
      " 10  Airline Count                          5316 non-null   int64  \n",
      " 11  First Airline                          5316 non-null   object \n",
      " 12  Last Airline                           5316 non-null   object \n",
      " 13  Aircraft Type Count                    5316 non-null   int64  \n",
      " 14  First Aircraft Type                    5316 non-null   object \n",
      " 15  Average of Avg - Flight Duration (MB)  5316 non-null   float64\n",
      " 16  Min of Min - Flight Duration (Hrs)     5316 non-null   float64\n",
      " 17  Max of Max - Flight Duration (Hrs)     5316 non-null   float64\n",
      " 18  Avg - Seat Count                       5316 non-null   float64\n",
      " 19  Min - Seat Count                       5316 non-null   int64  \n",
      " 20  Max - Seat Count                       5316 non-null   int64  \n",
      " 21  Price per User                         3944 non-null   float64\n",
      " 22  avg(a.Price)                           3944 non-null   float64\n",
      " 23  min(a.Price)                           3944 non-null   float64\n",
      " 24  max(a.Price)                           3944 non-null   float64\n",
      " 25  Average Usage (MB)                     3539 non-null   float64\n",
      " 26  Min - Usage (MB)                       3539 non-null   float64\n",
      " 27  Max - Usage (MB)                       3539 non-null   float64\n",
      " 28  Total Usage (MB)                       3539 non-null   float64\n",
      " 29  Usage per Flight (MB)                  3539 non-null   float64\n",
      " 30  Usage (MB)/ Min                        3539 non-null   float64\n",
      " 31  Min - Total Users                      3543 non-null   float64\n",
      " 32  Max - Total Users                      3543 non-null   float64\n",
      "dtypes: float64(22), int64(5), object(6)\n",
      "memory usage: 1.3+ MB\n"
     ]
    }
   ],
   "source": [
    "#check data type\n",
    "df_total.info()"
   ]
  },
  {
   "cell_type": "code",
   "execution_count": 458,
   "metadata": {
    "scrolled": true
   },
   "outputs": [
    {
     "data": {
      "text/plain": [
       "['Route',\n",
       " 'Flight Count',\n",
       " 'flight per week 1',\n",
       " 'flights per week 2',\n",
       " 'flights per week 3',\n",
       " 'flights per month 1',\n",
       " 'flights per month 2',\n",
       " 'flights per month 3',\n",
       " 'First Flow',\n",
       " 'Last Flown',\n",
       " 'Airline Count',\n",
       " 'First Airline',\n",
       " 'Last Airline',\n",
       " 'Aircraft Type Count',\n",
       " 'First Aircraft Type',\n",
       " 'Average of Avg - Flight Duration (MB)',\n",
       " 'Min of Min - Flight Duration (Hrs)',\n",
       " 'Max of Max - Flight Duration (Hrs)',\n",
       " 'Avg - Seat Count',\n",
       " 'Min - Seat Count',\n",
       " 'Max - Seat Count',\n",
       " 'Price per User',\n",
       " 'avg(a.Price)',\n",
       " 'min(a.Price)',\n",
       " 'max(a.Price)',\n",
       " 'Average Usage (MB)',\n",
       " 'Min - Usage (MB)',\n",
       " 'Max - Usage (MB)',\n",
       " 'Total Usage (MB)',\n",
       " 'Usage per Flight (MB)',\n",
       " 'Usage (MB)/ Min',\n",
       " 'Min - Total Users',\n",
       " 'Max - Total Users']"
      ]
     },
     "execution_count": 458,
     "metadata": {},
     "output_type": "execute_result"
    }
   ],
   "source": [
    "# check the data features\n",
    "df_total.columns.tolist()"
   ]
  },
  {
   "cell_type": "code",
   "execution_count": 459,
   "metadata": {},
   "outputs": [],
   "source": [
    "# convert the price feature to numerical\n",
    "df_total[['Price per User','avg(a.Price)','min(a.Price)', 'max(a.Price)']] = \\\n",
    "df_total[['Price per User','avg(a.Price)','min(a.Price)', 'max(a.Price)']].replace('[\\$,]', '', regex=True).astype(float)"
   ]
  },
  {
   "cell_type": "markdown",
   "metadata": {},
   "source": [
    "## 3. Exploratory Data Analysis<a name=\"eda\"></a>"
   ]
  },
  {
   "cell_type": "markdown",
   "metadata": {},
   "source": [
    "### A. Check missing data<a name=\"missingdata\"></a>"
   ]
  },
  {
   "cell_type": "code",
   "execution_count": 46,
   "metadata": {},
   "outputs": [],
   "source": [
    "#check missing value\\\n",
    "#Define a funciton to visualize the features with missing values, and the percentage of total values, and the data type\n",
    "def missing_value_table(df):\n",
    "    #total missing value\n",
    "    mis_val = df.isnull().sum()\n",
    "    #percentage of the missing values\n",
    "    mis_val_percent = 100*mis_val/len(df)\n",
    "    #type fo the missing value\n",
    "    mis_val_type = df.dtypes\n",
    "    #combine the results to a table\n",
    "    mis_val_table = pd.concat([mis_val, mis_val_percent, mis_val_type], axis = 1)\n",
    "    #name the column\n",
    "    mis_val_table_rename_col = mis_val_table.rename(columns = {0:'Missing Values', 1: '% of Total Values', 2: 'Type'})\n",
    "    #sort the table by percentage of missing descending\n",
    "    mis_val_table_rename_col = mis_val_table_rename_col[mis_val_table_rename_col.iloc[:,1]!=0] \\\n",
    "    .sort_values('% of Total Values', ascending = False).round(1)\n",
    "    \n",
    "    #print\n",
    "    print(\"Your selected dataframe has \" + str(df.shape[1]) + \" columns.\\n\" \"There are \" + str(mis_val_table_rename_col.shape[0])+\" columns that have missing values.\")\n",
    "    #return the dataframe with missing information\n",
    "    return mis_val_table_rename_col"
   ]
  },
  {
   "cell_type": "code",
   "execution_count": 47,
   "metadata": {},
   "outputs": [
    {
     "name": "stdout",
     "output_type": "stream",
     "text": [
      "Your selected dataframe has 33 columns.\n",
      "There are 18 columns that have missing values.\n"
     ]
    },
    {
     "data": {
      "text/html": [
       "<div>\n",
       "<style scoped>\n",
       "    .dataframe tbody tr th:only-of-type {\n",
       "        vertical-align: middle;\n",
       "    }\n",
       "\n",
       "    .dataframe tbody tr th {\n",
       "        vertical-align: top;\n",
       "    }\n",
       "\n",
       "    .dataframe thead th {\n",
       "        text-align: right;\n",
       "    }\n",
       "</style>\n",
       "<table border=\"1\" class=\"dataframe\">\n",
       "  <thead>\n",
       "    <tr style=\"text-align: right;\">\n",
       "      <th></th>\n",
       "      <th>Missing Values</th>\n",
       "      <th>% of Total Values</th>\n",
       "      <th>Type</th>\n",
       "    </tr>\n",
       "  </thead>\n",
       "  <tbody>\n",
       "    <tr>\n",
       "      <th>flights per week 3</th>\n",
       "      <td>3401</td>\n",
       "      <td>64.0</td>\n",
       "      <td>float64</td>\n",
       "    </tr>\n",
       "    <tr>\n",
       "      <th>flights per week 2</th>\n",
       "      <td>3375</td>\n",
       "      <td>63.5</td>\n",
       "      <td>float64</td>\n",
       "    </tr>\n",
       "    <tr>\n",
       "      <th>flight per week 1</th>\n",
       "      <td>3357</td>\n",
       "      <td>63.1</td>\n",
       "      <td>float64</td>\n",
       "    </tr>\n",
       "    <tr>\n",
       "      <th>flights per month 2</th>\n",
       "      <td>2791</td>\n",
       "      <td>52.5</td>\n",
       "      <td>float64</td>\n",
       "    </tr>\n",
       "    <tr>\n",
       "      <th>flights per month 1</th>\n",
       "      <td>2677</td>\n",
       "      <td>50.4</td>\n",
       "      <td>float64</td>\n",
       "    </tr>\n",
       "    <tr>\n",
       "      <th>flights per month 3</th>\n",
       "      <td>2569</td>\n",
       "      <td>48.3</td>\n",
       "      <td>float64</td>\n",
       "    </tr>\n",
       "    <tr>\n",
       "      <th>Total Usage (MB)</th>\n",
       "      <td>1777</td>\n",
       "      <td>33.4</td>\n",
       "      <td>float64</td>\n",
       "    </tr>\n",
       "    <tr>\n",
       "      <th>Usage (MB)/ Min</th>\n",
       "      <td>1777</td>\n",
       "      <td>33.4</td>\n",
       "      <td>float64</td>\n",
       "    </tr>\n",
       "    <tr>\n",
       "      <th>Usage per Flight (MB)</th>\n",
       "      <td>1777</td>\n",
       "      <td>33.4</td>\n",
       "      <td>float64</td>\n",
       "    </tr>\n",
       "    <tr>\n",
       "      <th>Average Usage (MB)</th>\n",
       "      <td>1777</td>\n",
       "      <td>33.4</td>\n",
       "      <td>float64</td>\n",
       "    </tr>\n",
       "    <tr>\n",
       "      <th>Min - Usage (MB)</th>\n",
       "      <td>1777</td>\n",
       "      <td>33.4</td>\n",
       "      <td>float64</td>\n",
       "    </tr>\n",
       "    <tr>\n",
       "      <th>Max - Usage (MB)</th>\n",
       "      <td>1777</td>\n",
       "      <td>33.4</td>\n",
       "      <td>float64</td>\n",
       "    </tr>\n",
       "    <tr>\n",
       "      <th>Min - Total Users</th>\n",
       "      <td>1773</td>\n",
       "      <td>33.4</td>\n",
       "      <td>float64</td>\n",
       "    </tr>\n",
       "    <tr>\n",
       "      <th>Max - Total Users</th>\n",
       "      <td>1773</td>\n",
       "      <td>33.4</td>\n",
       "      <td>float64</td>\n",
       "    </tr>\n",
       "    <tr>\n",
       "      <th>min(a.Price)</th>\n",
       "      <td>1372</td>\n",
       "      <td>25.8</td>\n",
       "      <td>float64</td>\n",
       "    </tr>\n",
       "    <tr>\n",
       "      <th>avg(a.Price)</th>\n",
       "      <td>1372</td>\n",
       "      <td>25.8</td>\n",
       "      <td>float64</td>\n",
       "    </tr>\n",
       "    <tr>\n",
       "      <th>Price per User</th>\n",
       "      <td>1372</td>\n",
       "      <td>25.8</td>\n",
       "      <td>float64</td>\n",
       "    </tr>\n",
       "    <tr>\n",
       "      <th>max(a.Price)</th>\n",
       "      <td>1372</td>\n",
       "      <td>25.8</td>\n",
       "      <td>float64</td>\n",
       "    </tr>\n",
       "  </tbody>\n",
       "</table>\n",
       "</div>"
      ],
      "text/plain": [
       "                       Missing Values  % of Total Values     Type\n",
       "flights per week 3               3401               64.0  float64\n",
       "flights per week 2               3375               63.5  float64\n",
       "flight per week 1                3357               63.1  float64\n",
       "flights per month 2              2791               52.5  float64\n",
       "flights per month 1              2677               50.4  float64\n",
       "flights per month 3              2569               48.3  float64\n",
       "Total Usage (MB)                 1777               33.4  float64\n",
       "Usage (MB)/ Min                  1777               33.4  float64\n",
       "Usage per Flight (MB)            1777               33.4  float64\n",
       "Average Usage (MB)               1777               33.4  float64\n",
       "Min - Usage (MB)                 1777               33.4  float64\n",
       "Max - Usage (MB)                 1777               33.4  float64\n",
       "Min - Total Users                1773               33.4  float64\n",
       "Max - Total Users                1773               33.4  float64\n",
       "min(a.Price)                     1372               25.8  float64\n",
       "avg(a.Price)                     1372               25.8  float64\n",
       "Price per User                   1372               25.8  float64\n",
       "max(a.Price)                     1372               25.8  float64"
      ]
     },
     "execution_count": 47,
     "metadata": {},
     "output_type": "execute_result"
    }
   ],
   "source": [
    "missing_value_table(df_total)"
   ]
  },
  {
   "cell_type": "code",
   "execution_count": 48,
   "metadata": {},
   "outputs": [],
   "source": [
    "df_price_miss = df_total[df_total['avg(a.Price)'].isnull()]"
   ]
  },
  {
   "cell_type": "code",
   "execution_count": 49,
   "metadata": {},
   "outputs": [
    {
     "data": {
      "text/plain": [
       "(1372, 33)"
      ]
     },
     "execution_count": 49,
     "metadata": {},
     "output_type": "execute_result"
    }
   ],
   "source": [
    "df_price_miss.shape"
   ]
  },
  {
   "cell_type": "markdown",
   "metadata": {},
   "source": [
    "### comment\n",
    "In total, there are 1372 routes have not price data"
   ]
  },
  {
   "cell_type": "code",
   "execution_count": 50,
   "metadata": {},
   "outputs": [
    {
     "data": {
      "text/html": [
       "<div>\n",
       "<style scoped>\n",
       "    .dataframe tbody tr th:only-of-type {\n",
       "        vertical-align: middle;\n",
       "    }\n",
       "\n",
       "    .dataframe tbody tr th {\n",
       "        vertical-align: top;\n",
       "    }\n",
       "\n",
       "    .dataframe thead th {\n",
       "        text-align: right;\n",
       "    }\n",
       "</style>\n",
       "<table border=\"1\" class=\"dataframe\">\n",
       "  <thead>\n",
       "    <tr style=\"text-align: right;\">\n",
       "      <th></th>\n",
       "      <th>Route</th>\n",
       "      <th>Flight Count</th>\n",
       "      <th>flight per week 1</th>\n",
       "      <th>flights per week 2</th>\n",
       "      <th>flights per week 3</th>\n",
       "      <th>flights per month 1</th>\n",
       "      <th>flights per month 2</th>\n",
       "      <th>flights per month 3</th>\n",
       "      <th>First Flow</th>\n",
       "      <th>Last Flown</th>\n",
       "      <th>Airline Count</th>\n",
       "      <th>First Airline</th>\n",
       "      <th>Last Airline</th>\n",
       "      <th>Aircraft Type Count</th>\n",
       "      <th>First Aircraft Type</th>\n",
       "      <th>Average of Avg - Flight Duration (MB)</th>\n",
       "      <th>Min of Min - Flight Duration (Hrs)</th>\n",
       "      <th>Max of Max - Flight Duration (Hrs)</th>\n",
       "      <th>Avg - Seat Count</th>\n",
       "      <th>Min - Seat Count</th>\n",
       "      <th>Max - Seat Count</th>\n",
       "      <th>Price per User</th>\n",
       "      <th>avg(a.Price)</th>\n",
       "      <th>min(a.Price)</th>\n",
       "      <th>max(a.Price)</th>\n",
       "      <th>Average Usage (MB)</th>\n",
       "      <th>Min - Usage (MB)</th>\n",
       "      <th>Max - Usage (MB)</th>\n",
       "      <th>Total Usage (MB)</th>\n",
       "      <th>Usage per Flight (MB)</th>\n",
       "      <th>Usage (MB)/ Min</th>\n",
       "      <th>Min - Total Users</th>\n",
       "      <th>Max - Total Users</th>\n",
       "    </tr>\n",
       "  </thead>\n",
       "  <tbody>\n",
       "    <tr>\n",
       "      <th>366</th>\n",
       "      <td>ABJ-BKO</td>\n",
       "      <td>258</td>\n",
       "      <td>7.0</td>\n",
       "      <td>7.0</td>\n",
       "      <td>7.0</td>\n",
       "      <td>30.0</td>\n",
       "      <td>30.0</td>\n",
       "      <td>26.0</td>\n",
       "      <td>10/8/2017 19:00</td>\n",
       "      <td>7/25/2018 18:49</td>\n",
       "      <td>1</td>\n",
       "      <td>AFR</td>\n",
       "      <td>AFR</td>\n",
       "      <td>1</td>\n",
       "      <td>787-9</td>\n",
       "      <td>1.278760</td>\n",
       "      <td>1.15</td>\n",
       "      <td>3.27</td>\n",
       "      <td>276.0</td>\n",
       "      <td>276</td>\n",
       "      <td>276</td>\n",
       "      <td>NaN</td>\n",
       "      <td>NaN</td>\n",
       "      <td>NaN</td>\n",
       "      <td>NaN</td>\n",
       "      <td>NaN</td>\n",
       "      <td>NaN</td>\n",
       "      <td>NaN</td>\n",
       "      <td>NaN</td>\n",
       "      <td>NaN</td>\n",
       "      <td>NaN</td>\n",
       "      <td>NaN</td>\n",
       "      <td>NaN</td>\n",
       "    </tr>\n",
       "    <tr>\n",
       "      <th>378</th>\n",
       "      <td>BKO-ABJ</td>\n",
       "      <td>258</td>\n",
       "      <td>7.0</td>\n",
       "      <td>7.0</td>\n",
       "      <td>7.0</td>\n",
       "      <td>30.0</td>\n",
       "      <td>30.0</td>\n",
       "      <td>26.0</td>\n",
       "      <td>10/8/2017 15:46</td>\n",
       "      <td>7/25/2018 15:21</td>\n",
       "      <td>1</td>\n",
       "      <td>AFR</td>\n",
       "      <td>AFR</td>\n",
       "      <td>1</td>\n",
       "      <td>787-9</td>\n",
       "      <td>1.252907</td>\n",
       "      <td>1.12</td>\n",
       "      <td>1.93</td>\n",
       "      <td>276.0</td>\n",
       "      <td>276</td>\n",
       "      <td>276</td>\n",
       "      <td>NaN</td>\n",
       "      <td>NaN</td>\n",
       "      <td>NaN</td>\n",
       "      <td>NaN</td>\n",
       "      <td>NaN</td>\n",
       "      <td>NaN</td>\n",
       "      <td>NaN</td>\n",
       "      <td>NaN</td>\n",
       "      <td>NaN</td>\n",
       "      <td>NaN</td>\n",
       "      <td>NaN</td>\n",
       "      <td>NaN</td>\n",
       "    </tr>\n",
       "    <tr>\n",
       "      <th>383</th>\n",
       "      <td>CDG-BKO</td>\n",
       "      <td>263</td>\n",
       "      <td>7.0</td>\n",
       "      <td>7.0</td>\n",
       "      <td>7.0</td>\n",
       "      <td>30.0</td>\n",
       "      <td>27.0</td>\n",
       "      <td>25.0</td>\n",
       "      <td>10/8/2017 9:26</td>\n",
       "      <td>7/25/2018 9:05</td>\n",
       "      <td>1</td>\n",
       "      <td>AFR</td>\n",
       "      <td>AFR</td>\n",
       "      <td>1</td>\n",
       "      <td>787-9</td>\n",
       "      <td>5.083840</td>\n",
       "      <td>4.63</td>\n",
       "      <td>5.73</td>\n",
       "      <td>276.0</td>\n",
       "      <td>276</td>\n",
       "      <td>276</td>\n",
       "      <td>NaN</td>\n",
       "      <td>NaN</td>\n",
       "      <td>NaN</td>\n",
       "      <td>NaN</td>\n",
       "      <td>NaN</td>\n",
       "      <td>NaN</td>\n",
       "      <td>NaN</td>\n",
       "      <td>NaN</td>\n",
       "      <td>NaN</td>\n",
       "      <td>NaN</td>\n",
       "      <td>NaN</td>\n",
       "      <td>NaN</td>\n",
       "    </tr>\n",
       "    <tr>\n",
       "      <th>384</th>\n",
       "      <td>CDG-BOG</td>\n",
       "      <td>92</td>\n",
       "      <td>7.0</td>\n",
       "      <td>7.0</td>\n",
       "      <td>7.0</td>\n",
       "      <td>30.0</td>\n",
       "      <td>29.0</td>\n",
       "      <td>8.0</td>\n",
       "      <td>4/22/2018 16:52</td>\n",
       "      <td>7/25/2018 16:32</td>\n",
       "      <td>1</td>\n",
       "      <td>AFR</td>\n",
       "      <td>AFR</td>\n",
       "      <td>1</td>\n",
       "      <td>787-9</td>\n",
       "      <td>10.000109</td>\n",
       "      <td>9.52</td>\n",
       "      <td>10.62</td>\n",
       "      <td>276.0</td>\n",
       "      <td>276</td>\n",
       "      <td>276</td>\n",
       "      <td>NaN</td>\n",
       "      <td>NaN</td>\n",
       "      <td>NaN</td>\n",
       "      <td>NaN</td>\n",
       "      <td>NaN</td>\n",
       "      <td>NaN</td>\n",
       "      <td>NaN</td>\n",
       "      <td>NaN</td>\n",
       "      <td>NaN</td>\n",
       "      <td>NaN</td>\n",
       "      <td>NaN</td>\n",
       "      <td>NaN</td>\n",
       "    </tr>\n",
       "    <tr>\n",
       "      <th>536</th>\n",
       "      <td>BKO-CDG</td>\n",
       "      <td>261</td>\n",
       "      <td>7.0</td>\n",
       "      <td>7.0</td>\n",
       "      <td>6.0</td>\n",
       "      <td>29.0</td>\n",
       "      <td>27.0</td>\n",
       "      <td>26.0</td>\n",
       "      <td>10/8/2017 22:25</td>\n",
       "      <td>7/25/2018 23:05</td>\n",
       "      <td>1</td>\n",
       "      <td>AFR</td>\n",
       "      <td>AFR</td>\n",
       "      <td>1</td>\n",
       "      <td>787-9</td>\n",
       "      <td>4.960038</td>\n",
       "      <td>4.58</td>\n",
       "      <td>5.48</td>\n",
       "      <td>276.0</td>\n",
       "      <td>276</td>\n",
       "      <td>276</td>\n",
       "      <td>NaN</td>\n",
       "      <td>NaN</td>\n",
       "      <td>NaN</td>\n",
       "      <td>NaN</td>\n",
       "      <td>NaN</td>\n",
       "      <td>NaN</td>\n",
       "      <td>NaN</td>\n",
       "      <td>NaN</td>\n",
       "      <td>NaN</td>\n",
       "      <td>NaN</td>\n",
       "      <td>NaN</td>\n",
       "      <td>NaN</td>\n",
       "    </tr>\n",
       "  </tbody>\n",
       "</table>\n",
       "</div>"
      ],
      "text/plain": [
       "       Route  Flight Count  flight per week 1  flights per week 2  \\\n",
       "366  ABJ-BKO           258                7.0                 7.0   \n",
       "378  BKO-ABJ           258                7.0                 7.0   \n",
       "383  CDG-BKO           263                7.0                 7.0   \n",
       "384  CDG-BOG            92                7.0                 7.0   \n",
       "536  BKO-CDG           261                7.0                 7.0   \n",
       "\n",
       "     flights per week 3  flights per month 1  flights per month 2  \\\n",
       "366                 7.0                 30.0                 30.0   \n",
       "378                 7.0                 30.0                 30.0   \n",
       "383                 7.0                 30.0                 27.0   \n",
       "384                 7.0                 30.0                 29.0   \n",
       "536                 6.0                 29.0                 27.0   \n",
       "\n",
       "     flights per month 3       First Flow       Last Flown  Airline Count  \\\n",
       "366                 26.0  10/8/2017 19:00  7/25/2018 18:49              1   \n",
       "378                 26.0  10/8/2017 15:46  7/25/2018 15:21              1   \n",
       "383                 25.0   10/8/2017 9:26   7/25/2018 9:05              1   \n",
       "384                  8.0  4/22/2018 16:52  7/25/2018 16:32              1   \n",
       "536                 26.0  10/8/2017 22:25  7/25/2018 23:05              1   \n",
       "\n",
       "    First Airline Last Airline  Aircraft Type Count First Aircraft Type  \\\n",
       "366           AFR          AFR                    1               787-9   \n",
       "378           AFR          AFR                    1               787-9   \n",
       "383           AFR          AFR                    1               787-9   \n",
       "384           AFR          AFR                    1               787-9   \n",
       "536           AFR          AFR                    1               787-9   \n",
       "\n",
       "     Average of Avg - Flight Duration (MB)  \\\n",
       "366                               1.278760   \n",
       "378                               1.252907   \n",
       "383                               5.083840   \n",
       "384                              10.000109   \n",
       "536                               4.960038   \n",
       "\n",
       "     Min of Min - Flight Duration (Hrs)  Max of Max - Flight Duration (Hrs)  \\\n",
       "366                                1.15                                3.27   \n",
       "378                                1.12                                1.93   \n",
       "383                                4.63                                5.73   \n",
       "384                                9.52                               10.62   \n",
       "536                                4.58                                5.48   \n",
       "\n",
       "     Avg - Seat Count  Min - Seat Count  Max - Seat Count  Price per User  \\\n",
       "366             276.0               276               276             NaN   \n",
       "378             276.0               276               276             NaN   \n",
       "383             276.0               276               276             NaN   \n",
       "384             276.0               276               276             NaN   \n",
       "536             276.0               276               276             NaN   \n",
       "\n",
       "     avg(a.Price)  min(a.Price)  max(a.Price)  Average Usage (MB)  \\\n",
       "366           NaN           NaN           NaN                 NaN   \n",
       "378           NaN           NaN           NaN                 NaN   \n",
       "383           NaN           NaN           NaN                 NaN   \n",
       "384           NaN           NaN           NaN                 NaN   \n",
       "536           NaN           NaN           NaN                 NaN   \n",
       "\n",
       "     Min - Usage (MB)  Max - Usage (MB)  Total Usage (MB)  \\\n",
       "366               NaN               NaN               NaN   \n",
       "378               NaN               NaN               NaN   \n",
       "383               NaN               NaN               NaN   \n",
       "384               NaN               NaN               NaN   \n",
       "536               NaN               NaN               NaN   \n",
       "\n",
       "     Usage per Flight (MB)  Usage (MB)/ Min  Min - Total Users  \\\n",
       "366                    NaN              NaN                NaN   \n",
       "378                    NaN              NaN                NaN   \n",
       "383                    NaN              NaN                NaN   \n",
       "384                    NaN              NaN                NaN   \n",
       "536                    NaN              NaN                NaN   \n",
       "\n",
       "     Max - Total Users  \n",
       "366                NaN  \n",
       "378                NaN  \n",
       "383                NaN  \n",
       "384                NaN  \n",
       "536                NaN  "
      ]
     },
     "execution_count": 50,
     "metadata": {},
     "output_type": "execute_result"
    }
   ],
   "source": [
    "df_price_miss.head()"
   ]
  },
  {
   "cell_type": "code",
   "execution_count": 460,
   "metadata": {},
   "outputs": [],
   "source": [
    "#data without missing price\n",
    "df_no_price_miss = df_total[~df_total['avg(a.Price)'].isnull()]"
   ]
  },
  {
   "cell_type": "code",
   "execution_count": 461,
   "metadata": {},
   "outputs": [
    {
     "name": "stdout",
     "output_type": "stream",
     "text": [
      "Your selected dataframe has 33 columns.\n",
      "There are 14 columns that have missing values.\n"
     ]
    },
    {
     "data": {
      "text/html": [
       "<div>\n",
       "<style scoped>\n",
       "    .dataframe tbody tr th:only-of-type {\n",
       "        vertical-align: middle;\n",
       "    }\n",
       "\n",
       "    .dataframe tbody tr th {\n",
       "        vertical-align: top;\n",
       "    }\n",
       "\n",
       "    .dataframe thead th {\n",
       "        text-align: right;\n",
       "    }\n",
       "</style>\n",
       "<table border=\"1\" class=\"dataframe\">\n",
       "  <thead>\n",
       "    <tr style=\"text-align: right;\">\n",
       "      <th></th>\n",
       "      <th>Missing Values</th>\n",
       "      <th>% of Total Values</th>\n",
       "      <th>Type</th>\n",
       "    </tr>\n",
       "  </thead>\n",
       "  <tbody>\n",
       "    <tr>\n",
       "      <th>flights per week 3</th>\n",
       "      <td>2106</td>\n",
       "      <td>53.4</td>\n",
       "      <td>float64</td>\n",
       "    </tr>\n",
       "    <tr>\n",
       "      <th>flights per week 2</th>\n",
       "      <td>2096</td>\n",
       "      <td>53.1</td>\n",
       "      <td>float64</td>\n",
       "    </tr>\n",
       "    <tr>\n",
       "      <th>flight per week 1</th>\n",
       "      <td>2080</td>\n",
       "      <td>52.7</td>\n",
       "      <td>float64</td>\n",
       "    </tr>\n",
       "    <tr>\n",
       "      <th>flights per month 2</th>\n",
       "      <td>1623</td>\n",
       "      <td>41.2</td>\n",
       "      <td>float64</td>\n",
       "    </tr>\n",
       "    <tr>\n",
       "      <th>flights per month 1</th>\n",
       "      <td>1535</td>\n",
       "      <td>38.9</td>\n",
       "      <td>float64</td>\n",
       "    </tr>\n",
       "    <tr>\n",
       "      <th>flights per month 3</th>\n",
       "      <td>1409</td>\n",
       "      <td>35.7</td>\n",
       "      <td>float64</td>\n",
       "    </tr>\n",
       "    <tr>\n",
       "      <th>Average Usage (MB)</th>\n",
       "      <td>497</td>\n",
       "      <td>12.6</td>\n",
       "      <td>float64</td>\n",
       "    </tr>\n",
       "    <tr>\n",
       "      <th>Min - Usage (MB)</th>\n",
       "      <td>497</td>\n",
       "      <td>12.6</td>\n",
       "      <td>float64</td>\n",
       "    </tr>\n",
       "    <tr>\n",
       "      <th>Max - Usage (MB)</th>\n",
       "      <td>497</td>\n",
       "      <td>12.6</td>\n",
       "      <td>float64</td>\n",
       "    </tr>\n",
       "    <tr>\n",
       "      <th>Total Usage (MB)</th>\n",
       "      <td>497</td>\n",
       "      <td>12.6</td>\n",
       "      <td>float64</td>\n",
       "    </tr>\n",
       "    <tr>\n",
       "      <th>Usage per Flight (MB)</th>\n",
       "      <td>497</td>\n",
       "      <td>12.6</td>\n",
       "      <td>float64</td>\n",
       "    </tr>\n",
       "    <tr>\n",
       "      <th>Usage (MB)/ Min</th>\n",
       "      <td>497</td>\n",
       "      <td>12.6</td>\n",
       "      <td>float64</td>\n",
       "    </tr>\n",
       "    <tr>\n",
       "      <th>Min - Total Users</th>\n",
       "      <td>497</td>\n",
       "      <td>12.6</td>\n",
       "      <td>float64</td>\n",
       "    </tr>\n",
       "    <tr>\n",
       "      <th>Max - Total Users</th>\n",
       "      <td>497</td>\n",
       "      <td>12.6</td>\n",
       "      <td>float64</td>\n",
       "    </tr>\n",
       "  </tbody>\n",
       "</table>\n",
       "</div>"
      ],
      "text/plain": [
       "                       Missing Values  % of Total Values     Type\n",
       "flights per week 3               2106               53.4  float64\n",
       "flights per week 2               2096               53.1  float64\n",
       "flight per week 1                2080               52.7  float64\n",
       "flights per month 2              1623               41.2  float64\n",
       "flights per month 1              1535               38.9  float64\n",
       "flights per month 3              1409               35.7  float64\n",
       "Average Usage (MB)                497               12.6  float64\n",
       "Min - Usage (MB)                  497               12.6  float64\n",
       "Max - Usage (MB)                  497               12.6  float64\n",
       "Total Usage (MB)                  497               12.6  float64\n",
       "Usage per Flight (MB)             497               12.6  float64\n",
       "Usage (MB)/ Min                   497               12.6  float64\n",
       "Min - Total Users                 497               12.6  float64\n",
       "Max - Total Users                 497               12.6  float64"
      ]
     },
     "execution_count": 461,
     "metadata": {},
     "output_type": "execute_result"
    }
   ],
   "source": [
    "# double check the missing data\n",
    "missing_value_table(df_no_price_miss)"
   ]
  },
  {
   "cell_type": "code",
   "execution_count": 462,
   "metadata": {
    "scrolled": true
   },
   "outputs": [
    {
     "data": {
      "text/plain": [
       "<matplotlib.axes._subplots.AxesSubplot at 0x1e4fd667518>"
      ]
     },
     "execution_count": 462,
     "metadata": {},
     "output_type": "execute_result"
    },
    {
     "data": {
      "image/png": "[encoded data removed]",
      "text/plain": [
       "<Figure size 432x288 with 1 Axes>"
      ]
     },
     "metadata": {
      "needs_background": "light"
     },
     "output_type": "display_data"
    }
   ],
   "source": [
    "# try to understand the different price feature\n",
    "sns.scatterplot(data = df_no_price_miss, x = 'Price per User', y = 'avg(a.Price)')"
   ]
  },
  {
   "cell_type": "code",
   "execution_count": 463,
   "metadata": {},
   "outputs": [
    {
     "data": {
      "text/plain": [
       "<matplotlib.axes._subplots.AxesSubplot at 0x1e493de4518>"
      ]
     },
     "execution_count": 463,
     "metadata": {},
     "output_type": "execute_result"
    },
    {
     "data": {
      "image/png": "[encoded data removed]",
      "text/plain": [
       "<Figure size 432x288 with 1 Axes>"
      ]
     },
     "metadata": {
      "needs_background": "light"
     },
     "output_type": "display_data"
    }
   ],
   "source": [
    "sns.scatterplot(data = df_no_price_miss[df_no_price_miss['Price per User']<30], x = 'Total Usage (MB)', y = 'Price per User')"
   ]
  },
  {
   "cell_type": "code",
   "execution_count": 464,
   "metadata": {},
   "outputs": [],
   "source": [
    "df_no_price_miss['ratio'] = df_no_price_miss['Price per User']/df_no_price_miss['avg(a.Price)']"
   ]
  },
  {
   "cell_type": "code",
   "execution_count": 465,
   "metadata": {},
   "outputs": [
    {
     "data": {
      "text/plain": [
       "<matplotlib.axes._subplots.AxesSubplot at 0x1e493b1a2e8>"
      ]
     },
     "execution_count": 465,
     "metadata": {},
     "output_type": "execute_result"
    },
    {
     "data": {
      "image/png": "[encoded data removed]",
      "text/plain": [
       "<Figure size 432x288 with 1 Axes>"
      ]
     },
     "metadata": {
      "needs_background": "light"
     },
     "output_type": "display_data"
    }
   ],
   "source": [
    "df_no_price_miss['ratio'].hist(bins = 21)"
   ]
  },
  {
   "cell_type": "code",
   "execution_count": 466,
   "metadata": {},
   "outputs": [
    {
     "data": {
      "text/plain": [
       "1.00         1\n",
       "1.95         4\n",
       "2.00        10\n",
       "2.90        24\n",
       "4.90        18\n",
       "4.99        11\n",
       "5.00        12\n",
       "5.95         2\n",
       "6.00        16\n",
       "6.49        10\n",
       "6.95         5\n",
       "6.99         1\n",
       "7.00        14\n",
       "7.90         6\n",
       "7.95         1\n",
       "8.00       461\n",
       "8.90        19\n",
       "8.99        27\n",
       "9.00         6\n",
       "9.95         7\n",
       "9.99         1\n",
       "10.00       13\n",
       "11.95        2\n",
       "12.00       55\n",
       "12.95        6\n",
       "13.00        9\n",
       "13.90       25\n",
       "13.99       11\n",
       "15.00        4\n",
       "15.95        2\n",
       "16.95        3\n",
       "17.00       12\n",
       "17.90        2\n",
       "18.90        1\n",
       "18.99       14\n",
       "19.00      132\n",
       "19.95       12\n",
       "19.99        5\n",
       "20.00       22\n",
       "21.95       21\n",
       "23.00        1\n",
       "25.90        2\n",
       "29.99        7\n",
       "30.00       10\n",
       "39.00        6\n",
       "40.00        1\n",
       "59.00        5\n",
       "550.00      12\n",
       "1050.00      8\n",
       "Name: max(a.Price), dtype: int64"
      ]
     },
     "execution_count": 466,
     "metadata": {},
     "output_type": "execute_result"
    }
   ],
   "source": [
    "df_no_price_miss['max(a.Price)'].loc[df_no_price_miss['ratio']==1].value_counts().sort_index()"
   ]
  },
  {
   "cell_type": "code",
   "execution_count": 467,
   "metadata": {},
   "outputs": [
    {
     "data": {
      "text/plain": [
       "<matplotlib.axes._subplots.AxesSubplot at 0x1e493ea74e0>"
      ]
     },
     "execution_count": 467,
     "metadata": {},
     "output_type": "execute_result"
    },
    {
     "data": {
      "image/png": "[encoded data removed]",
      "text/plain": [
       "<Figure size 432x288 with 1 Axes>"
      ]
     },
     "metadata": {
      "needs_background": "light"
     },
     "output_type": "display_data"
    }
   ],
   "source": [
    "sns.scatterplot(data = df_no_price_miss, x = 'avg(a.Price)', y = 'max(a.Price)')"
   ]
  },
  {
   "cell_type": "code",
   "execution_count": 468,
   "metadata": {},
   "outputs": [
    {
     "data": {
      "text/plain": [
       "<matplotlib.axes._subplots.AxesSubplot at 0x1e493f24c18>"
      ]
     },
     "execution_count": 468,
     "metadata": {},
     "output_type": "execute_result"
    },
    {
     "data": {
      "image/png": "[encoded data removed]",
      "text/plain": [
       "<Figure size 432x288 with 1 Axes>"
      ]
     },
     "metadata": {
      "needs_background": "light"
     },
     "output_type": "display_data"
    }
   ],
   "source": [
    "sns.scatterplot(data = df_no_price_miss, x = 'Price per User', y = 'max(a.Price)')"
   ]
  },
  {
   "cell_type": "code",
   "execution_count": 469,
   "metadata": {},
   "outputs": [
    {
     "data": {
      "text/plain": [
       "count    3944.000000\n",
       "mean       11.059019\n",
       "std        33.751234\n",
       "min         0.000000\n",
       "25%         3.407500\n",
       "50%         7.220000\n",
       "75%        12.182500\n",
       "max       750.000000\n",
       "Name: avg(a.Price), dtype: float64"
      ]
     },
     "execution_count": 469,
     "metadata": {},
     "output_type": "execute_result"
    }
   ],
   "source": [
    "df_no_price_miss['avg(a.Price)'].describe()"
   ]
  },
  {
   "cell_type": "code",
   "execution_count": 470,
   "metadata": {},
   "outputs": [
    {
     "data": {
      "text/plain": [
       "count    1499.000000\n",
       "mean       14.850927\n",
       "std        34.844035\n",
       "min         0.000000\n",
       "25%         7.470000\n",
       "50%         9.990000\n",
       "75%        15.805000\n",
       "max       750.000000\n",
       "Name: avg(a.Price), dtype: float64"
      ]
     },
     "execution_count": 470,
     "metadata": {},
     "output_type": "execute_result"
    }
   ],
   "source": [
    "df_no_price_miss['avg(a.Price)'].loc[df_no_price_miss['Flight Count']>55].describe()"
   ]
  },
  {
   "cell_type": "code",
   "execution_count": 471,
   "metadata": {},
   "outputs": [
    {
     "data": {
      "text/plain": [
       "<matplotlib.axes._subplots.AxesSubplot at 0x1e493faa8d0>"
      ]
     },
     "execution_count": 471,
     "metadata": {},
     "output_type": "execute_result"
    },
    {
     "data": {
      "image/png": "[encoded data removed]",
      "text/plain": [
       "<Figure size 432x288 with 1 Axes>"
      ]
     },
     "metadata": {
      "needs_background": "light"
     },
     "output_type": "display_data"
    }
   ],
   "source": [
    "df_no_price_miss['avg(a.Price)'].hist(bins = 1000)"
   ]
  },
  {
   "cell_type": "code",
   "execution_count": 472,
   "metadata": {},
   "outputs": [
    {
     "data": {
      "text/plain": [
       "count    3944.000000\n",
       "mean       11.059019\n",
       "std        33.751234\n",
       "min         0.000000\n",
       "25%         3.407500\n",
       "50%         7.220000\n",
       "75%        12.182500\n",
       "max       750.000000\n",
       "Name: avg(a.Price), dtype: float64"
      ]
     },
     "execution_count": 472,
     "metadata": {},
     "output_type": "execute_result"
    }
   ],
   "source": [
    "df_no_price_miss['avg(a.Price)'].describe()"
   ]
  },
  {
   "cell_type": "code",
   "execution_count": 195,
   "metadata": {},
   "outputs": [
    {
     "data": {
      "text/plain": [
       "57.57420000000066"
      ]
     },
     "execution_count": 195,
     "metadata": {},
     "output_type": "execute_result"
    }
   ],
   "source": [
    "upper_quartile = np.percentile(df_no_price_miss['avg(a.Price)'].tolist(), 99)\n",
    "upper_quartile"
   ]
  },
  {
   "cell_type": "code",
   "execution_count": 473,
   "metadata": {},
   "outputs": [],
   "source": [
    "upper_quartile = np.percentile(df_no_price_miss['avg(a.Price)'].tolist(), 75)\n",
    "lower_quartile = np.percentile(df_no_price_miss['avg(a.Price)'].tolist(), 25)\n",
    "IQR = upper_quartile - lower_quartile\n",
    "df_no_price_outlier = df_no_price_miss.loc[df_no_price_miss['avg(a.Price)']<=upper_quartile+1.5*IQR]\n",
    "df_price_outlier = df_no_price_miss.loc[df_no_price_miss['avg(a.Price)']>upper_quartile+1.5*IQR]"
   ]
  },
  {
   "cell_type": "code",
   "execution_count": 474,
   "metadata": {},
   "outputs": [
    {
     "data": {
      "text/plain": [
       "count    3801.000000\n",
       "mean        7.789682\n",
       "std         5.564332\n",
       "min         0.000000\n",
       "25%         3.280000\n",
       "50%         6.910000\n",
       "75%        11.730000\n",
       "max        25.150000\n",
       "Name: avg(a.Price), dtype: float64"
      ]
     },
     "execution_count": 474,
     "metadata": {},
     "output_type": "execute_result"
    }
   ],
   "source": [
    "df_no_price_outlier['avg(a.Price)'].describe()"
   ]
  },
  {
   "cell_type": "code",
   "execution_count": 475,
   "metadata": {},
   "outputs": [
    {
     "data": {
      "text/plain": [
       "count    143.000000\n",
       "mean      97.959371\n",
       "std      151.366564\n",
       "min       25.360000\n",
       "25%       31.965000\n",
       "50%       38.510000\n",
       "75%       63.170000\n",
       "max      750.000000\n",
       "Name: avg(a.Price), dtype: float64"
      ]
     },
     "execution_count": 475,
     "metadata": {},
     "output_type": "execute_result"
    }
   ],
   "source": [
    "df_price_outlier['avg(a.Price)'].describe()"
   ]
  },
  {
   "cell_type": "code",
   "execution_count": 476,
   "metadata": {},
   "outputs": [],
   "source": [
    "df_no_price_outlier = df_no_price_miss.loc[df_no_price_miss['avg(a.Price)']<=100]\n",
    "df_price_outlier = df_no_price_miss.loc[df_no_price_miss['avg(a.Price)']>100]"
   ]
  },
  {
   "cell_type": "code",
   "execution_count": 477,
   "metadata": {},
   "outputs": [
    {
     "data": {
      "text/plain": [
       "(3944, 34)"
      ]
     },
     "execution_count": 477,
     "metadata": {},
     "output_type": "execute_result"
    }
   ],
   "source": [
    "df_no_price_miss.shape"
   ]
  },
  {
   "cell_type": "code",
   "execution_count": 478,
   "metadata": {},
   "outputs": [
    {
     "data": {
      "text/plain": [
       "(3919, 34)"
      ]
     },
     "execution_count": 478,
     "metadata": {},
     "output_type": "execute_result"
    }
   ],
   "source": [
    "df_no_price_outlier.shape"
   ]
  },
  {
   "cell_type": "code",
   "execution_count": 479,
   "metadata": {},
   "outputs": [
    {
     "data": {
      "text/plain": [
       "<matplotlib.axes._subplots.AxesSubplot at 0x1e493f4c668>"
      ]
     },
     "execution_count": 479,
     "metadata": {},
     "output_type": "execute_result"
    },
    {
     "data": {
      "image/png": "[encoded data removed]",
      "text/plain": [
       "<Figure size 432x288 with 1 Axes>"
      ]
     },
     "metadata": {
      "needs_background": "light"
     },
     "output_type": "display_data"
    }
   ],
   "source": [
    "df_no_price_outlier['max(a.Price)'].hist(bins = 10)"
   ]
  },
  {
   "cell_type": "code",
   "execution_count": 480,
   "metadata": {},
   "outputs": [
    {
     "data": {
      "text/plain": [
       "count    195.000000\n",
       "mean      52.962923\n",
       "std       96.624223\n",
       "min        0.980000\n",
       "25%       18.185000\n",
       "50%       28.760000\n",
       "75%       41.080000\n",
       "max      750.000000\n",
       "Name: avg(a.Price), dtype: float64"
      ]
     },
     "execution_count": 480,
     "metadata": {},
     "output_type": "execute_result"
    }
   ],
   "source": [
    "df_no_price_miss['avg(a.Price)'].loc[df_no_price_miss['max(a.Price)']>800].describe()"
   ]
  },
  {
   "cell_type": "markdown",
   "metadata": {},
   "source": [
    "### comment \n",
    "The price per user and avarge price is hightly correlated. I am going to just use avg price as the target value. And there are some average price outliers, they'll be removed from the training dataset."
   ]
  },
  {
   "cell_type": "code",
   "execution_count": 481,
   "metadata": {},
   "outputs": [],
   "source": [
    "df_usage_miss = df_no_price_outlier[df_no_price_outlier['Average Usage (MB)'].isnull()]"
   ]
  },
  {
   "cell_type": "code",
   "execution_count": 482,
   "metadata": {},
   "outputs": [
    {
     "data": {
      "text/html": [
       "<div>\n",
       "<style scoped>\n",
       "    .dataframe tbody tr th:only-of-type {\n",
       "        vertical-align: middle;\n",
       "    }\n",
       "\n",
       "    .dataframe tbody tr th {\n",
       "        vertical-align: top;\n",
       "    }\n",
       "\n",
       "    .dataframe thead th {\n",
       "        text-align: right;\n",
       "    }\n",
       "</style>\n",
       "<table border=\"1\" class=\"dataframe\">\n",
       "  <thead>\n",
       "    <tr style=\"text-align: right;\">\n",
       "      <th></th>\n",
       "      <th>Route</th>\n",
       "      <th>Flight Count</th>\n",
       "      <th>flight per week 1</th>\n",
       "      <th>flights per week 2</th>\n",
       "      <th>flights per week 3</th>\n",
       "      <th>flights per month 1</th>\n",
       "      <th>flights per month 2</th>\n",
       "      <th>flights per month 3</th>\n",
       "      <th>First Flow</th>\n",
       "      <th>Last Flown</th>\n",
       "      <th>Airline Count</th>\n",
       "      <th>First Airline</th>\n",
       "      <th>Last Airline</th>\n",
       "      <th>Aircraft Type Count</th>\n",
       "      <th>First Aircraft Type</th>\n",
       "      <th>Average of Avg - Flight Duration (MB)</th>\n",
       "      <th>Min of Min - Flight Duration (Hrs)</th>\n",
       "      <th>Max of Max - Flight Duration (Hrs)</th>\n",
       "      <th>Avg - Seat Count</th>\n",
       "      <th>Min - Seat Count</th>\n",
       "      <th>Max - Seat Count</th>\n",
       "      <th>Price per User</th>\n",
       "      <th>avg(a.Price)</th>\n",
       "      <th>min(a.Price)</th>\n",
       "      <th>max(a.Price)</th>\n",
       "      <th>Average Usage (MB)</th>\n",
       "      <th>Min - Usage (MB)</th>\n",
       "      <th>Max - Usage (MB)</th>\n",
       "      <th>Total Usage (MB)</th>\n",
       "      <th>Usage per Flight (MB)</th>\n",
       "      <th>Usage (MB)/ Min</th>\n",
       "      <th>Min - Total Users</th>\n",
       "      <th>Max - Total Users</th>\n",
       "      <th>ratio</th>\n",
       "    </tr>\n",
       "  </thead>\n",
       "  <tbody>\n",
       "    <tr>\n",
       "      <th>1223</th>\n",
       "      <td>PHX-SAN</td>\n",
       "      <td>29</td>\n",
       "      <td>NaN</td>\n",
       "      <td>1.0</td>\n",
       "      <td>3.0</td>\n",
       "      <td>9.0</td>\n",
       "      <td>1.0</td>\n",
       "      <td>3.0</td>\n",
       "      <td>9/7/2017 20:42</td>\n",
       "      <td>7/25/2018 15:55</td>\n",
       "      <td>1</td>\n",
       "      <td>SWA</td>\n",
       "      <td>SWA</td>\n",
       "      <td>1</td>\n",
       "      <td>737-800</td>\n",
       "      <td>0.854138</td>\n",
       "      <td>0.77</td>\n",
       "      <td>1.37</td>\n",
       "      <td>173.9655</td>\n",
       "      <td>160</td>\n",
       "      <td>175</td>\n",
       "      <td>1.57</td>\n",
       "      <td>1.56</td>\n",
       "      <td>0.0</td>\n",
       "      <td>8.0</td>\n",
       "      <td>NaN</td>\n",
       "      <td>NaN</td>\n",
       "      <td>NaN</td>\n",
       "      <td>NaN</td>\n",
       "      <td>NaN</td>\n",
       "      <td>NaN</td>\n",
       "      <td>NaN</td>\n",
       "      <td>NaN</td>\n",
       "      <td>1.006410</td>\n",
       "    </tr>\n",
       "    <tr>\n",
       "      <th>1247</th>\n",
       "      <td>DAL-MDW</td>\n",
       "      <td>42</td>\n",
       "      <td>NaN</td>\n",
       "      <td>2.0</td>\n",
       "      <td>3.0</td>\n",
       "      <td>8.0</td>\n",
       "      <td>3.0</td>\n",
       "      <td>2.0</td>\n",
       "      <td>12/15/2017 12:38</td>\n",
       "      <td>7/24/2018 11:34</td>\n",
       "      <td>1</td>\n",
       "      <td>SWA</td>\n",
       "      <td>SWA</td>\n",
       "      <td>1</td>\n",
       "      <td>737-800</td>\n",
       "      <td>1.742619</td>\n",
       "      <td>1.53</td>\n",
       "      <td>1.90</td>\n",
       "      <td>173.5714</td>\n",
       "      <td>160</td>\n",
       "      <td>175</td>\n",
       "      <td>2.83</td>\n",
       "      <td>2.78</td>\n",
       "      <td>0.0</td>\n",
       "      <td>8.0</td>\n",
       "      <td>NaN</td>\n",
       "      <td>NaN</td>\n",
       "      <td>NaN</td>\n",
       "      <td>NaN</td>\n",
       "      <td>NaN</td>\n",
       "      <td>NaN</td>\n",
       "      <td>NaN</td>\n",
       "      <td>NaN</td>\n",
       "      <td>1.017986</td>\n",
       "    </tr>\n",
       "    <tr>\n",
       "      <th>1336</th>\n",
       "      <td>PHX-ATL</td>\n",
       "      <td>33</td>\n",
       "      <td>1.0</td>\n",
       "      <td>3.0</td>\n",
       "      <td>1.0</td>\n",
       "      <td>7.0</td>\n",
       "      <td>9.0</td>\n",
       "      <td>5.0</td>\n",
       "      <td>9/20/2017 13:51</td>\n",
       "      <td>7/10/2018 13:17</td>\n",
       "      <td>1</td>\n",
       "      <td>SWA</td>\n",
       "      <td>SWA</td>\n",
       "      <td>1</td>\n",
       "      <td>737-800</td>\n",
       "      <td>3.117576</td>\n",
       "      <td>2.82</td>\n",
       "      <td>3.37</td>\n",
       "      <td>174.5455</td>\n",
       "      <td>160</td>\n",
       "      <td>175</td>\n",
       "      <td>4.07</td>\n",
       "      <td>4.02</td>\n",
       "      <td>0.0</td>\n",
       "      <td>8.0</td>\n",
       "      <td>NaN</td>\n",
       "      <td>NaN</td>\n",
       "      <td>NaN</td>\n",
       "      <td>NaN</td>\n",
       "      <td>NaN</td>\n",
       "      <td>NaN</td>\n",
       "      <td>NaN</td>\n",
       "      <td>NaN</td>\n",
       "      <td>1.012438</td>\n",
       "    </tr>\n",
       "    <tr>\n",
       "      <th>1356</th>\n",
       "      <td>BOS-BWI</td>\n",
       "      <td>36</td>\n",
       "      <td>1.0</td>\n",
       "      <td>1.0</td>\n",
       "      <td>2.0</td>\n",
       "      <td>6.0</td>\n",
       "      <td>5.0</td>\n",
       "      <td>11.0</td>\n",
       "      <td>11/24/2017 19:05</td>\n",
       "      <td>7/9/2018 0:46</td>\n",
       "      <td>1</td>\n",
       "      <td>SWA</td>\n",
       "      <td>SWA</td>\n",
       "      <td>1</td>\n",
       "      <td>737-800</td>\n",
       "      <td>1.078333</td>\n",
       "      <td>0.95</td>\n",
       "      <td>1.42</td>\n",
       "      <td>174.5833</td>\n",
       "      <td>160</td>\n",
       "      <td>175</td>\n",
       "      <td>3.84</td>\n",
       "      <td>3.77</td>\n",
       "      <td>0.0</td>\n",
       "      <td>8.0</td>\n",
       "      <td>NaN</td>\n",
       "      <td>NaN</td>\n",
       "      <td>NaN</td>\n",
       "      <td>NaN</td>\n",
       "      <td>NaN</td>\n",
       "      <td>NaN</td>\n",
       "      <td>NaN</td>\n",
       "      <td>NaN</td>\n",
       "      <td>1.018568</td>\n",
       "    </tr>\n",
       "    <tr>\n",
       "      <th>1358</th>\n",
       "      <td>BOS-MDW</td>\n",
       "      <td>25</td>\n",
       "      <td>1.0</td>\n",
       "      <td>NaN</td>\n",
       "      <td>3.0</td>\n",
       "      <td>6.0</td>\n",
       "      <td>5.0</td>\n",
       "      <td>4.0</td>\n",
       "      <td>12/17/2017 18:39</td>\n",
       "      <td>7/9/2018 20:47</td>\n",
       "      <td>1</td>\n",
       "      <td>SWA</td>\n",
       "      <td>SWA</td>\n",
       "      <td>1</td>\n",
       "      <td>737-800</td>\n",
       "      <td>2.210400</td>\n",
       "      <td>1.93</td>\n",
       "      <td>2.67</td>\n",
       "      <td>173.8000</td>\n",
       "      <td>160</td>\n",
       "      <td>175</td>\n",
       "      <td>4.34</td>\n",
       "      <td>4.26</td>\n",
       "      <td>0.0</td>\n",
       "      <td>8.0</td>\n",
       "      <td>NaN</td>\n",
       "      <td>NaN</td>\n",
       "      <td>NaN</td>\n",
       "      <td>NaN</td>\n",
       "      <td>NaN</td>\n",
       "      <td>NaN</td>\n",
       "      <td>NaN</td>\n",
       "      <td>NaN</td>\n",
       "      <td>1.018779</td>\n",
       "    </tr>\n",
       "  </tbody>\n",
       "</table>\n",
       "</div>"
      ],
      "text/plain": [
       "        Route  Flight Count  flight per week 1  flights per week 2  \\\n",
       "1223  PHX-SAN            29                NaN                 1.0   \n",
       "1247  DAL-MDW            42                NaN                 2.0   \n",
       "1336  PHX-ATL            33                1.0                 3.0   \n",
       "1356  BOS-BWI            36                1.0                 1.0   \n",
       "1358  BOS-MDW            25                1.0                 NaN   \n",
       "\n",
       "      flights per week 3  flights per month 1  flights per month 2  \\\n",
       "1223                 3.0                  9.0                  1.0   \n",
       "1247                 3.0                  8.0                  3.0   \n",
       "1336                 1.0                  7.0                  9.0   \n",
       "1356                 2.0                  6.0                  5.0   \n",
       "1358                 3.0                  6.0                  5.0   \n",
       "\n",
       "      flights per month 3        First Flow       Last Flown  Airline Count  \\\n",
       "1223                  3.0    9/7/2017 20:42  7/25/2018 15:55              1   \n",
       "1247                  2.0  12/15/2017 12:38  7/24/2018 11:34              1   \n",
       "1336                  5.0   9/20/2017 13:51  7/10/2018 13:17              1   \n",
       "1356                 11.0  11/24/2017 19:05    7/9/2018 0:46              1   \n",
       "1358                  4.0  12/17/2017 18:39   7/9/2018 20:47              1   \n",
       "\n",
       "     First Airline Last Airline  Aircraft Type Count First Aircraft Type  \\\n",
       "1223           SWA          SWA                    1             737-800   \n",
       "1247           SWA          SWA                    1             737-800   \n",
       "1336           SWA          SWA                    1             737-800   \n",
       "1356           SWA          SWA                    1             737-800   \n",
       "1358           SWA          SWA                    1             737-800   \n",
       "\n",
       "      Average of Avg - Flight Duration (MB)  \\\n",
       "1223                               0.854138   \n",
       "1247                               1.742619   \n",
       "1336                               3.117576   \n",
       "1356                               1.078333   \n",
       "1358                               2.210400   \n",
       "\n",
       "      Min of Min - Flight Duration (Hrs)  Max of Max - Flight Duration (Hrs)  \\\n",
       "1223                                0.77                                1.37   \n",
       "1247                                1.53                                1.90   \n",
       "1336                                2.82                                3.37   \n",
       "1356                                0.95                                1.42   \n",
       "1358                                1.93                                2.67   \n",
       "\n",
       "      Avg - Seat Count  Min - Seat Count  Max - Seat Count  Price per User  \\\n",
       "1223          173.9655               160               175            1.57   \n",
       "1247          173.5714               160               175            2.83   \n",
       "1336          174.5455               160               175            4.07   \n",
       "1356          174.5833               160               175            3.84   \n",
       "1358          173.8000               160               175            4.34   \n",
       "\n",
       "      avg(a.Price)  min(a.Price)  max(a.Price)  Average Usage (MB)  \\\n",
       "1223          1.56           0.0           8.0                 NaN   \n",
       "1247          2.78           0.0           8.0                 NaN   \n",
       "1336          4.02           0.0           8.0                 NaN   \n",
       "1356          3.77           0.0           8.0                 NaN   \n",
       "1358          4.26           0.0           8.0                 NaN   \n",
       "\n",
       "      Min - Usage (MB)  Max - Usage (MB)  Total Usage (MB)  \\\n",
       "1223               NaN               NaN               NaN   \n",
       "1247               NaN               NaN               NaN   \n",
       "1336               NaN               NaN               NaN   \n",
       "1356               NaN               NaN               NaN   \n",
       "1358               NaN               NaN               NaN   \n",
       "\n",
       "      Usage per Flight (MB)  Usage (MB)/ Min  Min - Total Users  \\\n",
       "1223                    NaN              NaN                NaN   \n",
       "1247                    NaN              NaN                NaN   \n",
       "1336                    NaN              NaN                NaN   \n",
       "1356                    NaN              NaN                NaN   \n",
       "1358                    NaN              NaN                NaN   \n",
       "\n",
       "      Max - Total Users     ratio  \n",
       "1223                NaN  1.006410  \n",
       "1247                NaN  1.017986  \n",
       "1336                NaN  1.012438  \n",
       "1356                NaN  1.018568  \n",
       "1358                NaN  1.018779  "
      ]
     },
     "execution_count": 482,
     "metadata": {},
     "output_type": "execute_result"
    }
   ],
   "source": [
    "df_usage_miss.head()"
   ]
  },
  {
   "cell_type": "code",
   "execution_count": 483,
   "metadata": {},
   "outputs": [
    {
     "name": "stdout",
     "output_type": "stream",
     "text": [
      "<class 'pandas.core.frame.DataFrame'>\n",
      "Int64Index: 497 entries, 1223 to 5161\n",
      "Data columns (total 34 columns):\n",
      " #   Column                                 Non-Null Count  Dtype  \n",
      "---  ------                                 --------------  -----  \n",
      " 0   Route                                  497 non-null    object \n",
      " 1   Flight Count                           497 non-null    int64  \n",
      " 2   flight per week 1                      66 non-null     float64\n",
      " 3   flights per week 2                     67 non-null     float64\n",
      " 4   flights per week 3                     69 non-null     float64\n",
      " 5   flights per month 1                    204 non-null    float64\n",
      " 6   flights per month 2                    229 non-null    float64\n",
      " 7   flights per month 3                    255 non-null    float64\n",
      " 8   First Flow                             497 non-null    object \n",
      " 9   Last Flown                             497 non-null    object \n",
      " 10  Airline Count                          497 non-null    int64  \n",
      " 11  First Airline                          497 non-null    object \n",
      " 12  Last Airline                           497 non-null    object \n",
      " 13  Aircraft Type Count                    497 non-null    int64  \n",
      " 14  First Aircraft Type                    497 non-null    object \n",
      " 15  Average of Avg - Flight Duration (MB)  497 non-null    float64\n",
      " 16  Min of Min - Flight Duration (Hrs)     497 non-null    float64\n",
      " 17  Max of Max - Flight Duration (Hrs)     497 non-null    float64\n",
      " 18  Avg - Seat Count                       497 non-null    float64\n",
      " 19  Min - Seat Count                       497 non-null    int64  \n",
      " 20  Max - Seat Count                       497 non-null    int64  \n",
      " 21  Price per User                         497 non-null    float64\n",
      " 22  avg(a.Price)                           497 non-null    float64\n",
      " 23  min(a.Price)                           497 non-null    float64\n",
      " 24  max(a.Price)                           497 non-null    float64\n",
      " 25  Average Usage (MB)                     0 non-null      float64\n",
      " 26  Min - Usage (MB)                       0 non-null      float64\n",
      " 27  Max - Usage (MB)                       0 non-null      float64\n",
      " 28  Total Usage (MB)                       0 non-null      float64\n",
      " 29  Usage per Flight (MB)                  0 non-null      float64\n",
      " 30  Usage (MB)/ Min                        0 non-null      float64\n",
      " 31  Min - Total Users                      0 non-null      float64\n",
      " 32  Max - Total Users                      0 non-null      float64\n",
      " 33  ratio                                  466 non-null    float64\n",
      "dtypes: float64(23), int64(5), object(6)\n",
      "memory usage: 135.9+ KB\n"
     ]
    }
   ],
   "source": [
    "df_usage_miss.info()"
   ]
  },
  {
   "cell_type": "code",
   "execution_count": 484,
   "metadata": {},
   "outputs": [
    {
     "data": {
      "text/html": [
       "<div>\n",
       "<style scoped>\n",
       "    .dataframe tbody tr th:only-of-type {\n",
       "        vertical-align: middle;\n",
       "    }\n",
       "\n",
       "    .dataframe tbody tr th {\n",
       "        vertical-align: top;\n",
       "    }\n",
       "\n",
       "    .dataframe thead th {\n",
       "        text-align: right;\n",
       "    }\n",
       "</style>\n",
       "<table border=\"1\" class=\"dataframe\">\n",
       "  <thead>\n",
       "    <tr style=\"text-align: right;\">\n",
       "      <th></th>\n",
       "      <th>Flight Count</th>\n",
       "      <th>flight per week 1</th>\n",
       "      <th>flights per week 2</th>\n",
       "      <th>flights per week 3</th>\n",
       "      <th>flights per month 1</th>\n",
       "      <th>flights per month 2</th>\n",
       "      <th>flights per month 3</th>\n",
       "      <th>Airline Count</th>\n",
       "      <th>Aircraft Type Count</th>\n",
       "      <th>Average of Avg - Flight Duration (MB)</th>\n",
       "      <th>Min of Min - Flight Duration (Hrs)</th>\n",
       "      <th>Max of Max - Flight Duration (Hrs)</th>\n",
       "      <th>Avg - Seat Count</th>\n",
       "      <th>Min - Seat Count</th>\n",
       "      <th>Max - Seat Count</th>\n",
       "      <th>Price per User</th>\n",
       "      <th>avg(a.Price)</th>\n",
       "      <th>min(a.Price)</th>\n",
       "      <th>max(a.Price)</th>\n",
       "      <th>Average Usage (MB)</th>\n",
       "      <th>Min - Usage (MB)</th>\n",
       "      <th>Max - Usage (MB)</th>\n",
       "      <th>Total Usage (MB)</th>\n",
       "      <th>Usage per Flight (MB)</th>\n",
       "      <th>Usage (MB)/ Min</th>\n",
       "      <th>Min - Total Users</th>\n",
       "      <th>Max - Total Users</th>\n",
       "      <th>ratio</th>\n",
       "    </tr>\n",
       "  </thead>\n",
       "  <tbody>\n",
       "    <tr>\n",
       "      <th>count</th>\n",
       "      <td>497.000000</td>\n",
       "      <td>66.000000</td>\n",
       "      <td>67.000000</td>\n",
       "      <td>69.000000</td>\n",
       "      <td>204.000000</td>\n",
       "      <td>229.000000</td>\n",
       "      <td>255.000000</td>\n",
       "      <td>497.000000</td>\n",
       "      <td>497.000000</td>\n",
       "      <td>497.000000</td>\n",
       "      <td>497.000000</td>\n",
       "      <td>497.000000</td>\n",
       "      <td>497.000000</td>\n",
       "      <td>497.000000</td>\n",
       "      <td>497.000000</td>\n",
       "      <td>497.000000</td>\n",
       "      <td>497.000000</td>\n",
       "      <td>497.000000</td>\n",
       "      <td>497.000000</td>\n",
       "      <td>0.0</td>\n",
       "      <td>0.0</td>\n",
       "      <td>0.0</td>\n",
       "      <td>0.0</td>\n",
       "      <td>0.0</td>\n",
       "      <td>0.0</td>\n",
       "      <td>0.0</td>\n",
       "      <td>0.0</td>\n",
       "      <td>466.000000</td>\n",
       "    </tr>\n",
       "    <tr>\n",
       "      <th>mean</th>\n",
       "      <td>8.074447</td>\n",
       "      <td>1.242424</td>\n",
       "      <td>1.208955</td>\n",
       "      <td>1.333333</td>\n",
       "      <td>2.068627</td>\n",
       "      <td>2.877729</td>\n",
       "      <td>2.364706</td>\n",
       "      <td>1.004024</td>\n",
       "      <td>1.004024</td>\n",
       "      <td>2.111916</td>\n",
       "      <td>1.998028</td>\n",
       "      <td>2.257767</td>\n",
       "      <td>178.406675</td>\n",
       "      <td>176.446680</td>\n",
       "      <td>178.951710</td>\n",
       "      <td>3.333722</td>\n",
       "      <td>3.282354</td>\n",
       "      <td>0.253521</td>\n",
       "      <td>7.452716</td>\n",
       "      <td>NaN</td>\n",
       "      <td>NaN</td>\n",
       "      <td>NaN</td>\n",
       "      <td>NaN</td>\n",
       "      <td>NaN</td>\n",
       "      <td>NaN</td>\n",
       "      <td>NaN</td>\n",
       "      <td>NaN</td>\n",
       "      <td>1.016010</td>\n",
       "    </tr>\n",
       "    <tr>\n",
       "      <th>std</th>\n",
       "      <td>9.622538</td>\n",
       "      <td>0.431834</td>\n",
       "      <td>0.508632</td>\n",
       "      <td>0.634004</td>\n",
       "      <td>1.473977</td>\n",
       "      <td>1.987435</td>\n",
       "      <td>1.673182</td>\n",
       "      <td>0.063372</td>\n",
       "      <td>0.063372</td>\n",
       "      <td>1.490936</td>\n",
       "      <td>1.417447</td>\n",
       "      <td>1.564965</td>\n",
       "      <td>21.162296</td>\n",
       "      <td>22.148274</td>\n",
       "      <td>21.355424</td>\n",
       "      <td>1.900772</td>\n",
       "      <td>1.870591</td>\n",
       "      <td>1.341082</td>\n",
       "      <td>1.997548</td>\n",
       "      <td>NaN</td>\n",
       "      <td>NaN</td>\n",
       "      <td>NaN</td>\n",
       "      <td>NaN</td>\n",
       "      <td>NaN</td>\n",
       "      <td>NaN</td>\n",
       "      <td>NaN</td>\n",
       "      <td>NaN</td>\n",
       "      <td>0.042894</td>\n",
       "    </tr>\n",
       "    <tr>\n",
       "      <th>min</th>\n",
       "      <td>1.000000</td>\n",
       "      <td>1.000000</td>\n",
       "      <td>1.000000</td>\n",
       "      <td>1.000000</td>\n",
       "      <td>1.000000</td>\n",
       "      <td>1.000000</td>\n",
       "      <td>1.000000</td>\n",
       "      <td>1.000000</td>\n",
       "      <td>1.000000</td>\n",
       "      <td>0.380000</td>\n",
       "      <td>0.380000</td>\n",
       "      <td>0.380000</td>\n",
       "      <td>160.000000</td>\n",
       "      <td>160.000000</td>\n",
       "      <td>160.000000</td>\n",
       "      <td>0.000000</td>\n",
       "      <td>0.000000</td>\n",
       "      <td>0.000000</td>\n",
       "      <td>0.000000</td>\n",
       "      <td>NaN</td>\n",
       "      <td>NaN</td>\n",
       "      <td>NaN</td>\n",
       "      <td>NaN</td>\n",
       "      <td>NaN</td>\n",
       "      <td>NaN</td>\n",
       "      <td>NaN</td>\n",
       "      <td>NaN</td>\n",
       "      <td>1.000000</td>\n",
       "    </tr>\n",
       "    <tr>\n",
       "      <th>25%</th>\n",
       "      <td>2.000000</td>\n",
       "      <td>1.000000</td>\n",
       "      <td>1.000000</td>\n",
       "      <td>1.000000</td>\n",
       "      <td>1.000000</td>\n",
       "      <td>1.000000</td>\n",
       "      <td>1.000000</td>\n",
       "      <td>1.000000</td>\n",
       "      <td>1.000000</td>\n",
       "      <td>1.165000</td>\n",
       "      <td>1.080000</td>\n",
       "      <td>1.270000</td>\n",
       "      <td>175.000000</td>\n",
       "      <td>175.000000</td>\n",
       "      <td>175.000000</td>\n",
       "      <td>2.000000</td>\n",
       "      <td>2.000000</td>\n",
       "      <td>0.000000</td>\n",
       "      <td>8.000000</td>\n",
       "      <td>NaN</td>\n",
       "      <td>NaN</td>\n",
       "      <td>NaN</td>\n",
       "      <td>NaN</td>\n",
       "      <td>NaN</td>\n",
       "      <td>NaN</td>\n",
       "      <td>NaN</td>\n",
       "      <td>NaN</td>\n",
       "      <td>1.000000</td>\n",
       "    </tr>\n",
       "    <tr>\n",
       "      <th>50%</th>\n",
       "      <td>5.000000</td>\n",
       "      <td>1.000000</td>\n",
       "      <td>1.000000</td>\n",
       "      <td>1.000000</td>\n",
       "      <td>2.000000</td>\n",
       "      <td>2.000000</td>\n",
       "      <td>2.000000</td>\n",
       "      <td>1.000000</td>\n",
       "      <td>1.000000</td>\n",
       "      <td>1.770000</td>\n",
       "      <td>1.680000</td>\n",
       "      <td>1.880000</td>\n",
       "      <td>175.000000</td>\n",
       "      <td>175.000000</td>\n",
       "      <td>175.000000</td>\n",
       "      <td>3.200000</td>\n",
       "      <td>3.190000</td>\n",
       "      <td>0.000000</td>\n",
       "      <td>8.000000</td>\n",
       "      <td>NaN</td>\n",
       "      <td>NaN</td>\n",
       "      <td>NaN</td>\n",
       "      <td>NaN</td>\n",
       "      <td>NaN</td>\n",
       "      <td>NaN</td>\n",
       "      <td>NaN</td>\n",
       "      <td>NaN</td>\n",
       "      <td>1.000000</td>\n",
       "    </tr>\n",
       "    <tr>\n",
       "      <th>75%</th>\n",
       "      <td>10.000000</td>\n",
       "      <td>1.000000</td>\n",
       "      <td>1.000000</td>\n",
       "      <td>2.000000</td>\n",
       "      <td>3.000000</td>\n",
       "      <td>4.000000</td>\n",
       "      <td>3.000000</td>\n",
       "      <td>1.000000</td>\n",
       "      <td>1.000000</td>\n",
       "      <td>2.550000</td>\n",
       "      <td>2.450000</td>\n",
       "      <td>2.750000</td>\n",
       "      <td>175.000000</td>\n",
       "      <td>175.000000</td>\n",
       "      <td>175.000000</td>\n",
       "      <td>4.580000</td>\n",
       "      <td>4.520000</td>\n",
       "      <td>0.000000</td>\n",
       "      <td>8.000000</td>\n",
       "      <td>NaN</td>\n",
       "      <td>NaN</td>\n",
       "      <td>NaN</td>\n",
       "      <td>NaN</td>\n",
       "      <td>NaN</td>\n",
       "      <td>NaN</td>\n",
       "      <td>NaN</td>\n",
       "      <td>NaN</td>\n",
       "      <td>1.020683</td>\n",
       "    </tr>\n",
       "    <tr>\n",
       "      <th>max</th>\n",
       "      <td>62.000000</td>\n",
       "      <td>2.000000</td>\n",
       "      <td>3.000000</td>\n",
       "      <td>4.000000</td>\n",
       "      <td>9.000000</td>\n",
       "      <td>9.000000</td>\n",
       "      <td>11.000000</td>\n",
       "      <td>2.000000</td>\n",
       "      <td>2.000000</td>\n",
       "      <td>11.404516</td>\n",
       "      <td>10.970000</td>\n",
       "      <td>11.780000</td>\n",
       "      <td>294.000000</td>\n",
       "      <td>294.000000</td>\n",
       "      <td>294.000000</td>\n",
       "      <td>9.000000</td>\n",
       "      <td>8.000000</td>\n",
       "      <td>8.000000</td>\n",
       "      <td>8.000000</td>\n",
       "      <td>NaN</td>\n",
       "      <td>NaN</td>\n",
       "      <td>NaN</td>\n",
       "      <td>NaN</td>\n",
       "      <td>NaN</td>\n",
       "      <td>NaN</td>\n",
       "      <td>NaN</td>\n",
       "      <td>NaN</td>\n",
       "      <td>1.500000</td>\n",
       "    </tr>\n",
       "  </tbody>\n",
       "</table>\n",
       "</div>"
      ],
      "text/plain": [
       "       Flight Count  flight per week 1  flights per week 2  \\\n",
       "count    497.000000          66.000000           67.000000   \n",
       "mean       8.074447           1.242424            1.208955   \n",
       "std        9.622538           0.431834            0.508632   \n",
       "min        1.000000           1.000000            1.000000   \n",
       "25%        2.000000           1.000000            1.000000   \n",
       "50%        5.000000           1.000000            1.000000   \n",
       "75%       10.000000           1.000000            1.000000   \n",
       "max       62.000000           2.000000            3.000000   \n",
       "\n",
       "       flights per week 3  flights per month 1  flights per month 2  \\\n",
       "count           69.000000           204.000000           229.000000   \n",
       "mean             1.333333             2.068627             2.877729   \n",
       "std              0.634004             1.473977             1.987435   \n",
       "min              1.000000             1.000000             1.000000   \n",
       "25%              1.000000             1.000000             1.000000   \n",
       "50%              1.000000             2.000000             2.000000   \n",
       "75%              2.000000             3.000000             4.000000   \n",
       "max              4.000000             9.000000             9.000000   \n",
       "\n",
       "       flights per month 3  Airline Count  Aircraft Type Count  \\\n",
       "count           255.000000     497.000000           497.000000   \n",
       "mean              2.364706       1.004024             1.004024   \n",
       "std               1.673182       0.063372             0.063372   \n",
       "min               1.000000       1.000000             1.000000   \n",
       "25%               1.000000       1.000000             1.000000   \n",
       "50%               2.000000       1.000000             1.000000   \n",
       "75%               3.000000       1.000000             1.000000   \n",
       "max              11.000000       2.000000             2.000000   \n",
       "\n",
       "       Average of Avg - Flight Duration (MB)  \\\n",
       "count                             497.000000   \n",
       "mean                                2.111916   \n",
       "std                                 1.490936   \n",
       "min                                 0.380000   \n",
       "25%                                 1.165000   \n",
       "50%                                 1.770000   \n",
       "75%                                 2.550000   \n",
       "max                                11.404516   \n",
       "\n",
       "       Min of Min - Flight Duration (Hrs)  Max of Max - Flight Duration (Hrs)  \\\n",
       "count                          497.000000                          497.000000   \n",
       "mean                             1.998028                            2.257767   \n",
       "std                              1.417447                            1.564965   \n",
       "min                              0.380000                            0.380000   \n",
       "25%                              1.080000                            1.270000   \n",
       "50%                              1.680000                            1.880000   \n",
       "75%                              2.450000                            2.750000   \n",
       "max                             10.970000                           11.780000   \n",
       "\n",
       "       Avg - Seat Count  Min - Seat Count  Max - Seat Count  Price per User  \\\n",
       "count        497.000000        497.000000        497.000000      497.000000   \n",
       "mean         178.406675        176.446680        178.951710        3.333722   \n",
       "std           21.162296         22.148274         21.355424        1.900772   \n",
       "min          160.000000        160.000000        160.000000        0.000000   \n",
       "25%          175.000000        175.000000        175.000000        2.000000   \n",
       "50%          175.000000        175.000000        175.000000        3.200000   \n",
       "75%          175.000000        175.000000        175.000000        4.580000   \n",
       "max          294.000000        294.000000        294.000000        9.000000   \n",
       "\n",
       "       avg(a.Price)  min(a.Price)  max(a.Price)  Average Usage (MB)  \\\n",
       "count    497.000000    497.000000    497.000000                 0.0   \n",
       "mean       3.282354      0.253521      7.452716                 NaN   \n",
       "std        1.870591      1.341082      1.997548                 NaN   \n",
       "min        0.000000      0.000000      0.000000                 NaN   \n",
       "25%        2.000000      0.000000      8.000000                 NaN   \n",
       "50%        3.190000      0.000000      8.000000                 NaN   \n",
       "75%        4.520000      0.000000      8.000000                 NaN   \n",
       "max        8.000000      8.000000      8.000000                 NaN   \n",
       "\n",
       "       Min - Usage (MB)  Max - Usage (MB)  Total Usage (MB)  \\\n",
       "count               0.0               0.0               0.0   \n",
       "mean                NaN               NaN               NaN   \n",
       "std                 NaN               NaN               NaN   \n",
       "min                 NaN               NaN               NaN   \n",
       "25%                 NaN               NaN               NaN   \n",
       "50%                 NaN               NaN               NaN   \n",
       "75%                 NaN               NaN               NaN   \n",
       "max                 NaN               NaN               NaN   \n",
       "\n",
       "       Usage per Flight (MB)  Usage (MB)/ Min  Min - Total Users  \\\n",
       "count                    0.0              0.0                0.0   \n",
       "mean                     NaN              NaN                NaN   \n",
       "std                      NaN              NaN                NaN   \n",
       "min                      NaN              NaN                NaN   \n",
       "25%                      NaN              NaN                NaN   \n",
       "50%                      NaN              NaN                NaN   \n",
       "75%                      NaN              NaN                NaN   \n",
       "max                      NaN              NaN                NaN   \n",
       "\n",
       "       Max - Total Users       ratio  \n",
       "count                0.0  466.000000  \n",
       "mean                 NaN    1.016010  \n",
       "std                  NaN    0.042894  \n",
       "min                  NaN    1.000000  \n",
       "25%                  NaN    1.000000  \n",
       "50%                  NaN    1.000000  \n",
       "75%                  NaN    1.020683  \n",
       "max                  NaN    1.500000  "
      ]
     },
     "execution_count": 484,
     "metadata": {},
     "output_type": "execute_result"
    }
   ],
   "source": [
    "df_usage_miss.describe()"
   ]
  },
  {
   "cell_type": "markdown",
   "metadata": {},
   "source": [
    "### comment\n",
    "There are additional 497 routes which have not wifi usage data. In those routes, the total flight count are relatively small, and the mean flight count is 8. Thus, I plan to remove those data from the training datasets to keep the model simple."
   ]
  },
  {
   "cell_type": "code",
   "execution_count": 485,
   "metadata": {},
   "outputs": [],
   "source": [
    "# create a dataset without price and usage missing value\n",
    "df_train = df_no_price_outlier[~df_no_price_outlier['Average Usage (MB)'].isnull()]"
   ]
  },
  {
   "cell_type": "code",
   "execution_count": 486,
   "metadata": {},
   "outputs": [
    {
     "data": {
      "text/plain": [
       "(3422, 34)"
      ]
     },
     "execution_count": 486,
     "metadata": {},
     "output_type": "execute_result"
    }
   ],
   "source": [
    "df_train.shape"
   ]
  },
  {
   "cell_type": "code",
   "execution_count": 487,
   "metadata": {},
   "outputs": [
    {
     "name": "stdout",
     "output_type": "stream",
     "text": [
      "Your selected dataframe has 34 columns.\n",
      "There are 7 columns that have missing values.\n"
     ]
    },
    {
     "data": {
      "text/html": [
       "<div>\n",
       "<style scoped>\n",
       "    .dataframe tbody tr th:only-of-type {\n",
       "        vertical-align: middle;\n",
       "    }\n",
       "\n",
       "    .dataframe tbody tr th {\n",
       "        vertical-align: top;\n",
       "    }\n",
       "\n",
       "    .dataframe thead th {\n",
       "        text-align: right;\n",
       "    }\n",
       "</style>\n",
       "<table border=\"1\" class=\"dataframe\">\n",
       "  <thead>\n",
       "    <tr style=\"text-align: right;\">\n",
       "      <th></th>\n",
       "      <th>Missing Values</th>\n",
       "      <th>% of Total Values</th>\n",
       "      <th>Type</th>\n",
       "    </tr>\n",
       "  </thead>\n",
       "  <tbody>\n",
       "    <tr>\n",
       "      <th>flights per week 3</th>\n",
       "      <td>1657</td>\n",
       "      <td>48.4</td>\n",
       "      <td>float64</td>\n",
       "    </tr>\n",
       "    <tr>\n",
       "      <th>flights per week 2</th>\n",
       "      <td>1645</td>\n",
       "      <td>48.1</td>\n",
       "      <td>float64</td>\n",
       "    </tr>\n",
       "    <tr>\n",
       "      <th>flight per week 1</th>\n",
       "      <td>1630</td>\n",
       "      <td>47.6</td>\n",
       "      <td>float64</td>\n",
       "    </tr>\n",
       "    <tr>\n",
       "      <th>flights per month 2</th>\n",
       "      <td>1339</td>\n",
       "      <td>39.1</td>\n",
       "      <td>float64</td>\n",
       "    </tr>\n",
       "    <tr>\n",
       "      <th>flights per month 1</th>\n",
       "      <td>1225</td>\n",
       "      <td>35.8</td>\n",
       "      <td>float64</td>\n",
       "    </tr>\n",
       "    <tr>\n",
       "      <th>flights per month 3</th>\n",
       "      <td>1147</td>\n",
       "      <td>33.5</td>\n",
       "      <td>float64</td>\n",
       "    </tr>\n",
       "    <tr>\n",
       "      <th>ratio</th>\n",
       "      <td>156</td>\n",
       "      <td>4.6</td>\n",
       "      <td>float64</td>\n",
       "    </tr>\n",
       "  </tbody>\n",
       "</table>\n",
       "</div>"
      ],
      "text/plain": [
       "                     Missing Values  % of Total Values     Type\n",
       "flights per week 3             1657               48.4  float64\n",
       "flights per week 2             1645               48.1  float64\n",
       "flight per week 1              1630               47.6  float64\n",
       "flights per month 2            1339               39.1  float64\n",
       "flights per month 1            1225               35.8  float64\n",
       "flights per month 3            1147               33.5  float64\n",
       "ratio                           156                4.6  float64"
      ]
     },
     "execution_count": 487,
     "metadata": {},
     "output_type": "execute_result"
    }
   ],
   "source": [
    "missing_value_table(df_train)"
   ]
  },
  {
   "cell_type": "code",
   "execution_count": 488,
   "metadata": {},
   "outputs": [
    {
     "name": "stdout",
     "output_type": "stream",
     "text": [
      "Your selected dataframe has 34 columns.\n",
      "There are 7 columns that have missing values.\n"
     ]
    },
    {
     "data": {
      "text/plain": [
       "Index(['flights per week 3', 'flights per week 2', 'flight per week 1',\n",
       "       'flights per month 2', 'flights per month 1', 'flights per month 3',\n",
       "       'ratio'],\n",
       "      dtype='object')"
      ]
     },
     "execution_count": 488,
     "metadata": {},
     "output_type": "execute_result"
    }
   ],
   "source": [
    "missing_value_table(df_train).index"
   ]
  },
  {
   "cell_type": "code",
   "execution_count": 489,
   "metadata": {},
   "outputs": [],
   "source": [
    "#monthly average flight\n",
    "df_train['First Flow'] = pd.to_datetime(df_train['First Flow']) \n",
    "df_train['Last Flown'] = pd.to_datetime(df_train['Last Flown'])"
   ]
  },
  {
   "cell_type": "code",
   "execution_count": 490,
   "metadata": {},
   "outputs": [
    {
     "data": {
      "text/plain": [
       "0      2017-07-01 00:20:00\n",
       "1      2017-07-01 00:40:00\n",
       "2      2017-07-01 02:48:00\n",
       "3      2017-07-01 01:28:00\n",
       "4      2017-07-01 00:20:00\n",
       "               ...        \n",
       "5305   2017-07-02 18:43:00\n",
       "5307   2017-07-15 08:23:00\n",
       "5309   2018-04-09 11:31:00\n",
       "5311   2017-07-01 17:01:00\n",
       "5314   2017-07-02 15:44:00\n",
       "Name: First Flow, Length: 3447, dtype: datetime64[ns]"
      ]
     },
     "execution_count": 490,
     "metadata": {},
     "output_type": "execute_result"
    }
   ],
   "source": [
    "first_flow"
   ]
  },
  {
   "cell_type": "code",
   "execution_count": 491,
   "metadata": {},
   "outputs": [],
   "source": [
    "df_train['diff_weeks'] =(df_train['Last Flown']-df_train['First Flow'])/np.timedelta64(1,'W')"
   ]
  },
  {
   "cell_type": "code",
   "execution_count": 492,
   "metadata": {},
   "outputs": [],
   "source": [
    "df_train['diff_weeks'].loc[df_train['diff_weeks']<1] = 1"
   ]
  },
  {
   "cell_type": "code",
   "execution_count": 493,
   "metadata": {},
   "outputs": [
    {
     "data": {
      "text/plain": [
       "count    3422.000000\n",
       "mean       33.303116\n",
       "std        20.313666\n",
       "min         1.000000\n",
       "25%        15.746280\n",
       "50%        35.435665\n",
       "75%        55.268874\n",
       "max        55.712302\n",
       "Name: diff_weeks, dtype: float64"
      ]
     },
     "execution_count": 493,
     "metadata": {},
     "output_type": "execute_result"
    }
   ],
   "source": [
    "df_train['diff_weeks'].describe()"
   ]
  },
  {
   "cell_type": "code",
   "execution_count": 494,
   "metadata": {},
   "outputs": [],
   "source": [
    "df_train['flight_per_week'] = df_train['Flight Count']/df_train['diff_weeks']"
   ]
  },
  {
   "cell_type": "markdown",
   "metadata": {},
   "source": [
    "### comment\n",
    "create a flight per week feature to replace the average flight count"
   ]
  },
  {
   "cell_type": "markdown",
   "metadata": {},
   "source": [
    "### B. Plot the statistics of Features<a name=\"statisticsfeature\"></a>"
   ]
  },
  {
   "cell_type": "markdown",
   "metadata": {},
   "source": [
    "### Route Features:\n",
    "**'Route'**,\n",
    "**'Flight Count'**,\n",
    "'flight per week 1',\n",
    "'flights per week 2',\n",
    "'flights per week 3',\n",
    "'flights per month 1',\n",
    "'flights per month 2',\n",
    "'flights per month 3',\n",
    "### Flight Related Features:\n",
    "'First Flow',\n",
    "'Last Flown',\n",
    "'Airline Count',\n",
    "'First Airline',\n",
    "'Last Airline',\n",
    "'Aircraft Type Count',\n",
    "'First Aircraft Type',\n",
    "**'Average of Avg - Flight Duration (MB)'**,\n",
    "'Min of Min - Flight Duration (Hrs)',\n",
    "'Max of Max - Flight Duration (Hrs)',\n",
    "**'Avg - Seat Count'**,\n",
    "'Min - Seat Count',\n",
    "'Max - Seat Count',\n",
    "### In-flight WiFi Price:\n",
    "'Price per User',\n",
    "**'avg(a.Price)'**,\n",
    "'min(a.Price)',\n",
    "'max(a.Price)',\n",
    "### In-flight WiFi Usage:\n",
    "**'Average Usage (MB)'**,\n",
    "'Min - Usage (MB)',\n",
    "'Max - Usage (MB)',\n",
    "**'Total Usage (MB)'**,\n",
    "**'Usage per Flight (MB)'**,\n",
    "**'Usage (MB)/ Min'**,\n",
    "'Min - Total Users',\n",
    "**'Max - Total Users'**]"
   ]
  },
  {
   "cell_type": "markdown",
   "metadata": {},
   "source": [
    "### 2.2.1 Flight per week"
   ]
  },
  {
   "cell_type": "code",
   "execution_count": 218,
   "metadata": {},
   "outputs": [
    {
     "data": {
      "text/plain": [
       "<matplotlib.axes._subplots.AxesSubplot at 0x1e48792f1d0>"
      ]
     },
     "execution_count": 218,
     "metadata": {},
     "output_type": "execute_result"
    },
    {
     "data": {
      "image/png": "[encoded data removed]",
      "text/plain": [
       "<Figure size 432x288 with 1 Axes>"
      ]
     },
     "metadata": {
      "needs_background": "light"
     },
     "output_type": "display_data"
    }
   ],
   "source": [
    "sns.scatterplot(data = df_train[~df_train['flight per week 1'].isnull()], x = 'flight per week 1', y = 'flight_per_week')"
   ]
  },
  {
   "cell_type": "code",
   "execution_count": 219,
   "metadata": {},
   "outputs": [
    {
     "name": "stdout",
     "output_type": "stream",
     "text": [
      "Pearsons correlation: 0.955\n"
     ]
    }
   ],
   "source": [
    "corr, _  = pearsonr(df_train['flight per week 1'].loc[~df_train['flight per week 1'].isnull()], \\\n",
    "                    df_train['flight_per_week'].loc[~df_train['flight per week 1'].isnull()])\n",
    "print('Pearsons correlation: %.3f' % corr)"
   ]
  },
  {
   "cell_type": "code",
   "execution_count": 220,
   "metadata": {
    "scrolled": true
   },
   "outputs": [
    {
     "data": {
      "image/png": "[encoded data removed]",
      "text/plain": [
       "<Figure size 720x432 with 2 Axes>"
      ]
     },
     "metadata": {
      "needs_background": "light"
     },
     "output_type": "display_data"
    }
   ],
   "source": [
    "flight_count_feature_list = ['flights per week 3', 'flights per week 2', 'flight per week 1',\n",
    "       'flights per month 2', 'flights per month 1', 'flights per month 3']\n",
    "fig, ax = plt.subplots(figsize = (10,6))\n",
    "cm_df = sns.heatmap(df_train[flight_count_feature_list].corr(), annot = True, fmt = \".2f\", cmap = 'coolwarm', ax = ax)"
   ]
  },
  {
   "cell_type": "code",
   "execution_count": 351,
   "metadata": {},
   "outputs": [
    {
     "data": {
      "text/plain": [
       "<matplotlib.axes._subplots.AxesSubplot at 0x1e4fd4f3550>"
      ]
     },
     "execution_count": 351,
     "metadata": {},
     "output_type": "execute_result"
    },
    {
     "data": {
      "image/png": "[encoded data removed]",
      "text/plain": [
       "<Figure size 432x288 with 1 Axes>"
      ]
     },
     "metadata": {
      "needs_background": "light"
     },
     "output_type": "display_data"
    }
   ],
   "source": [
    "sns.regplot(data = df_train[df_train['avg(a.Price)']<100], x = 'flight_per_week', y = 'avg(a.Price)', scatter_kws={\"color\": \"green\"})"
   ]
  },
  {
   "cell_type": "markdown",
   "metadata": {},
   "source": [
    "### comment\n",
    "The calculated flight per week is highly correlated flight_per_week1, which has a log missing value. I am going to use the calculated flight per week as the new feature to represent flight count."
   ]
  },
  {
   "cell_type": "markdown",
   "metadata": {},
   "source": [
    "### 2.2.2 Route"
   ]
  },
  {
   "cell_type": "code",
   "execution_count": 225,
   "metadata": {},
   "outputs": [],
   "source": [
    "df_train['route1'] = df_train['Route'].apply(lambda x: x[:3])"
   ]
  },
  {
   "cell_type": "code",
   "execution_count": 327,
   "metadata": {},
   "outputs": [],
   "source": [
    "df_no_price_miss['route1'] = df_no_price_miss['Route'].apply(lambda x: x[:3])"
   ]
  },
  {
   "cell_type": "code",
   "execution_count": 226,
   "metadata": {},
   "outputs": [
    {
     "data": {
      "text/plain": [
       "0    HND\n",
       "1    CTS\n",
       "2    HND\n",
       "3    FUK\n",
       "4    HND\n",
       "Name: route1, dtype: object"
      ]
     },
     "execution_count": 226,
     "metadata": {},
     "output_type": "execute_result"
    }
   ],
   "source": [
    "df_train['route1'].head()"
   ]
  },
  {
   "cell_type": "code",
   "execution_count": 227,
   "metadata": {},
   "outputs": [],
   "source": [
    "df_train['route2'] = df_train['Route'].apply(lambda x: x[-3:])"
   ]
  },
  {
   "cell_type": "code",
   "execution_count": 331,
   "metadata": {},
   "outputs": [],
   "source": [
    "df_no_price_miss['route2'] = df_no_price_miss['Route'].apply(lambda x: x[-3:])"
   ]
  },
  {
   "cell_type": "code",
   "execution_count": 228,
   "metadata": {},
   "outputs": [
    {
     "data": {
      "text/plain": [
       "0    CTS\n",
       "1    HND\n",
       "2    FUK\n",
       "3    HND\n",
       "4    ITM\n",
       "Name: route2, dtype: object"
      ]
     },
     "execution_count": 228,
     "metadata": {},
     "output_type": "execute_result"
    }
   ],
   "source": [
    "df_train['route2'].head()"
   ]
  },
  {
   "cell_type": "code",
   "execution_count": 229,
   "metadata": {},
   "outputs": [
    {
     "data": {
      "text/plain": [
       "MAD    77\n",
       "YYZ    66\n",
       "DOH    64\n",
       "YYC    62\n",
       "MIA    60\n",
       "       ..\n",
       "FKS     1\n",
       "BOD     1\n",
       "LTO     1\n",
       "KIN     1\n",
       "BSL     1\n",
       "Name: route1, Length: 454, dtype: int64"
      ]
     },
     "execution_count": 229,
     "metadata": {},
     "output_type": "execute_result"
    }
   ],
   "source": [
    "df_train['route1'].value_counts()"
   ]
  },
  {
   "cell_type": "code",
   "execution_count": 230,
   "metadata": {},
   "outputs": [
    {
     "data": {
      "text/plain": [
       "MAD    78\n",
       "???    77\n",
       "YYZ    69\n",
       "DOH    62\n",
       "HND    60\n",
       "       ..\n",
       "KZN     1\n",
       "AXT     1\n",
       "SAP     1\n",
       "LTO     1\n",
       "TAO     1\n",
       "Name: route2, Length: 440, dtype: int64"
      ]
     },
     "execution_count": 230,
     "metadata": {},
     "output_type": "execute_result"
    }
   ],
   "source": [
    "df_train['route2'].value_counts()"
   ]
  },
  {
   "cell_type": "code",
   "execution_count": 231,
   "metadata": {},
   "outputs": [
    {
     "data": {
      "text/html": [
       "<div>\n",
       "<style scoped>\n",
       "    .dataframe tbody tr th:only-of-type {\n",
       "        vertical-align: middle;\n",
       "    }\n",
       "\n",
       "    .dataframe tbody tr th {\n",
       "        vertical-align: top;\n",
       "    }\n",
       "\n",
       "    .dataframe thead th {\n",
       "        text-align: right;\n",
       "    }\n",
       "</style>\n",
       "<table border=\"1\" class=\"dataframe\">\n",
       "  <thead>\n",
       "    <tr style=\"text-align: right;\">\n",
       "      <th></th>\n",
       "      <th>Route</th>\n",
       "      <th>Flight Count</th>\n",
       "      <th>flight per week 1</th>\n",
       "      <th>flights per week 2</th>\n",
       "      <th>flights per week 3</th>\n",
       "      <th>flights per month 1</th>\n",
       "      <th>flights per month 2</th>\n",
       "      <th>flights per month 3</th>\n",
       "      <th>First Flow</th>\n",
       "      <th>Last Flown</th>\n",
       "      <th>Airline Count</th>\n",
       "      <th>First Airline</th>\n",
       "      <th>Last Airline</th>\n",
       "      <th>Aircraft Type Count</th>\n",
       "      <th>First Aircraft Type</th>\n",
       "      <th>Average of Avg - Flight Duration (MB)</th>\n",
       "      <th>Min of Min - Flight Duration (Hrs)</th>\n",
       "      <th>Max of Max - Flight Duration (Hrs)</th>\n",
       "      <th>Avg - Seat Count</th>\n",
       "      <th>Min - Seat Count</th>\n",
       "      <th>Max - Seat Count</th>\n",
       "      <th>Price per User</th>\n",
       "      <th>avg(a.Price)</th>\n",
       "      <th>min(a.Price)</th>\n",
       "      <th>max(a.Price)</th>\n",
       "      <th>Average Usage (MB)</th>\n",
       "      <th>Min - Usage (MB)</th>\n",
       "      <th>Max - Usage (MB)</th>\n",
       "      <th>Total Usage (MB)</th>\n",
       "      <th>Usage per Flight (MB)</th>\n",
       "      <th>Usage (MB)/ Min</th>\n",
       "      <th>Min - Total Users</th>\n",
       "      <th>Max - Total Users</th>\n",
       "      <th>diff_weeks</th>\n",
       "      <th>flight_per_week</th>\n",
       "      <th>route1</th>\n",
       "      <th>route2</th>\n",
       "    </tr>\n",
       "  </thead>\n",
       "  <tbody>\n",
       "    <tr>\n",
       "      <th>836</th>\n",
       "      <td>HND-???</td>\n",
       "      <td>148</td>\n",
       "      <td>10.0</td>\n",
       "      <td>5.0</td>\n",
       "      <td>3.0</td>\n",
       "      <td>22.0</td>\n",
       "      <td>6.0</td>\n",
       "      <td>2.0</td>\n",
       "      <td>2017-07-14 01:53:00</td>\n",
       "      <td>2018-07-24 06:47:00</td>\n",
       "      <td>1</td>\n",
       "      <td>ANA</td>\n",
       "      <td>ANA</td>\n",
       "      <td>3</td>\n",
       "      <td>321-100</td>\n",
       "      <td>0.17</td>\n",
       "      <td>0.17</td>\n",
       "      <td>0.17</td>\n",
       "      <td>166.1554</td>\n",
       "      <td>160</td>\n",
       "      <td>200</td>\n",
       "      <td>59.14</td>\n",
       "      <td>53.74</td>\n",
       "      <td>0.00</td>\n",
       "      <td>1050.00</td>\n",
       "      <td>210.894864</td>\n",
       "      <td>0.520000</td>\n",
       "      <td>1341.449951</td>\n",
       "      <td>31212.439860</td>\n",
       "      <td>210.894864</td>\n",
       "      <td>21.089486</td>\n",
       "      <td>1.0</td>\n",
       "      <td>34.0</td>\n",
       "      <td>53.600595</td>\n",
       "      <td>2.761163</td>\n",
       "      <td>HND</td>\n",
       "      <td>???</td>\n",
       "    </tr>\n",
       "    <tr>\n",
       "      <th>1781</th>\n",
       "      <td>MAD-???</td>\n",
       "      <td>18</td>\n",
       "      <td>NaN</td>\n",
       "      <td>NaN</td>\n",
       "      <td>1.0</td>\n",
       "      <td>3.0</td>\n",
       "      <td>2.0</td>\n",
       "      <td>1.0</td>\n",
       "      <td>2017-08-30 11:07:00</td>\n",
       "      <td>2018-07-25 10:15:00</td>\n",
       "      <td>2</td>\n",
       "      <td>AEA</td>\n",
       "      <td>IBE</td>\n",
       "      <td>4</td>\n",
       "      <td>330-200</td>\n",
       "      <td>0.17</td>\n",
       "      <td>0.17</td>\n",
       "      <td>0.17</td>\n",
       "      <td>285.0000</td>\n",
       "      <td>180</td>\n",
       "      <td>333</td>\n",
       "      <td>10.95</td>\n",
       "      <td>10.16</td>\n",
       "      <td>5.00</td>\n",
       "      <td>29.99</td>\n",
       "      <td>92.371111</td>\n",
       "      <td>10.960000</td>\n",
       "      <td>212.570007</td>\n",
       "      <td>1662.679999</td>\n",
       "      <td>92.371111</td>\n",
       "      <td>9.237111</td>\n",
       "      <td>1.0</td>\n",
       "      <td>5.0</td>\n",
       "      <td>46.994841</td>\n",
       "      <td>0.383021</td>\n",
       "      <td>MAD</td>\n",
       "      <td>???</td>\n",
       "    </tr>\n",
       "    <tr>\n",
       "      <th>1967</th>\n",
       "      <td>HEL-???</td>\n",
       "      <td>10</td>\n",
       "      <td>NaN</td>\n",
       "      <td>NaN</td>\n",
       "      <td>NaN</td>\n",
       "      <td>2.0</td>\n",
       "      <td>1.0</td>\n",
       "      <td>1.0</td>\n",
       "      <td>2017-10-19 14:48:00</td>\n",
       "      <td>2018-06-07 21:11:00</td>\n",
       "      <td>1</td>\n",
       "      <td>FIN</td>\n",
       "      <td>FIN</td>\n",
       "      <td>2</td>\n",
       "      <td>330-300</td>\n",
       "      <td>0.17</td>\n",
       "      <td>0.17</td>\n",
       "      <td>0.17</td>\n",
       "      <td>287.0000</td>\n",
       "      <td>277</td>\n",
       "      <td>297</td>\n",
       "      <td>12.33</td>\n",
       "      <td>12.33</td>\n",
       "      <td>5.00</td>\n",
       "      <td>19.95</td>\n",
       "      <td>614.539010</td>\n",
       "      <td>47.610001</td>\n",
       "      <td>1313.390015</td>\n",
       "      <td>6145.390099</td>\n",
       "      <td>614.539010</td>\n",
       "      <td>61.453901</td>\n",
       "      <td>1.0</td>\n",
       "      <td>9.0</td>\n",
       "      <td>33.037996</td>\n",
       "      <td>0.302682</td>\n",
       "      <td>HEL</td>\n",
       "      <td>???</td>\n",
       "    </tr>\n",
       "    <tr>\n",
       "      <th>2106</th>\n",
       "      <td>YYZ-???</td>\n",
       "      <td>5</td>\n",
       "      <td>NaN</td>\n",
       "      <td>1.0</td>\n",
       "      <td>NaN</td>\n",
       "      <td>2.0</td>\n",
       "      <td>NaN</td>\n",
       "      <td>NaN</td>\n",
       "      <td>2018-01-10 15:10:00</td>\n",
       "      <td>2018-06-28 01:43:00</td>\n",
       "      <td>1</td>\n",
       "      <td>WJA</td>\n",
       "      <td>WJA</td>\n",
       "      <td>2</td>\n",
       "      <td>737-700</td>\n",
       "      <td>0.17</td>\n",
       "      <td>0.17</td>\n",
       "      <td>0.17</td>\n",
       "      <td>137.6000</td>\n",
       "      <td>130</td>\n",
       "      <td>168</td>\n",
       "      <td>8.08</td>\n",
       "      <td>7.23</td>\n",
       "      <td>0.00</td>\n",
       "      <td>13.99</td>\n",
       "      <td>349.412006</td>\n",
       "      <td>137.320007</td>\n",
       "      <td>722.830017</td>\n",
       "      <td>1747.060028</td>\n",
       "      <td>349.412006</td>\n",
       "      <td>34.941201</td>\n",
       "      <td>2.0</td>\n",
       "      <td>6.0</td>\n",
       "      <td>24.062798</td>\n",
       "      <td>0.207790</td>\n",
       "      <td>YYZ</td>\n",
       "      <td>???</td>\n",
       "    </tr>\n",
       "    <tr>\n",
       "      <th>2171</th>\n",
       "      <td>BKK-???</td>\n",
       "      <td>2</td>\n",
       "      <td>NaN</td>\n",
       "      <td>NaN</td>\n",
       "      <td>NaN</td>\n",
       "      <td>1.0</td>\n",
       "      <td>NaN</td>\n",
       "      <td>NaN</td>\n",
       "      <td>2018-03-14 01:17:00</td>\n",
       "      <td>2018-06-01 07:08:00</td>\n",
       "      <td>2</td>\n",
       "      <td>ANA</td>\n",
       "      <td>THA</td>\n",
       "      <td>2</td>\n",
       "      <td>350-900</td>\n",
       "      <td>0.17</td>\n",
       "      <td>0.17</td>\n",
       "      <td>0.17</td>\n",
       "      <td>259.0000</td>\n",
       "      <td>197</td>\n",
       "      <td>321</td>\n",
       "      <td>16.77</td>\n",
       "      <td>16.77</td>\n",
       "      <td>4.99</td>\n",
       "      <td>21.95</td>\n",
       "      <td>142.965000</td>\n",
       "      <td>125.930000</td>\n",
       "      <td>160.000000</td>\n",
       "      <td>285.930000</td>\n",
       "      <td>142.965000</td>\n",
       "      <td>14.296500</td>\n",
       "      <td>2.0</td>\n",
       "      <td>3.0</td>\n",
       "      <td>11.320536</td>\n",
       "      <td>0.176670</td>\n",
       "      <td>BKK</td>\n",
       "      <td>???</td>\n",
       "    </tr>\n",
       "  </tbody>\n",
       "</table>\n",
       "</div>"
      ],
      "text/plain": [
       "        Route  Flight Count  flight per week 1  flights per week 2  \\\n",
       "836   HND-???           148               10.0                 5.0   \n",
       "1781  MAD-???            18                NaN                 NaN   \n",
       "1967  HEL-???            10                NaN                 NaN   \n",
       "2106  YYZ-???             5                NaN                 1.0   \n",
       "2171  BKK-???             2                NaN                 NaN   \n",
       "\n",
       "      flights per week 3  flights per month 1  flights per month 2  \\\n",
       "836                  3.0                 22.0                  6.0   \n",
       "1781                 1.0                  3.0                  2.0   \n",
       "1967                 NaN                  2.0                  1.0   \n",
       "2106                 NaN                  2.0                  NaN   \n",
       "2171                 NaN                  1.0                  NaN   \n",
       "\n",
       "      flights per month 3          First Flow          Last Flown  \\\n",
       "836                   2.0 2017-07-14 01:53:00 2018-07-24 06:47:00   \n",
       "1781                  1.0 2017-08-30 11:07:00 2018-07-25 10:15:00   \n",
       "1967                  1.0 2017-10-19 14:48:00 2018-06-07 21:11:00   \n",
       "2106                  NaN 2018-01-10 15:10:00 2018-06-28 01:43:00   \n",
       "2171                  NaN 2018-03-14 01:17:00 2018-06-01 07:08:00   \n",
       "\n",
       "      Airline Count First Airline Last Airline  Aircraft Type Count  \\\n",
       "836               1           ANA          ANA                    3   \n",
       "1781              2           AEA          IBE                    4   \n",
       "1967              1           FIN          FIN                    2   \n",
       "2106              1           WJA          WJA                    2   \n",
       "2171              2           ANA          THA                    2   \n",
       "\n",
       "     First Aircraft Type  Average of Avg - Flight Duration (MB)  \\\n",
       "836              321-100                                   0.17   \n",
       "1781             330-200                                   0.17   \n",
       "1967             330-300                                   0.17   \n",
       "2106             737-700                                   0.17   \n",
       "2171             350-900                                   0.17   \n",
       "\n",
       "      Min of Min - Flight Duration (Hrs)  Max of Max - Flight Duration (Hrs)  \\\n",
       "836                                 0.17                                0.17   \n",
       "1781                                0.17                                0.17   \n",
       "1967                                0.17                                0.17   \n",
       "2106                                0.17                                0.17   \n",
       "2171                                0.17                                0.17   \n",
       "\n",
       "      Avg - Seat Count  Min - Seat Count  Max - Seat Count  Price per User  \\\n",
       "836           166.1554               160               200           59.14   \n",
       "1781          285.0000               180               333           10.95   \n",
       "1967          287.0000               277               297           12.33   \n",
       "2106          137.6000               130               168            8.08   \n",
       "2171          259.0000               197               321           16.77   \n",
       "\n",
       "      avg(a.Price)  min(a.Price)  max(a.Price)  Average Usage (MB)  \\\n",
       "836          53.74          0.00       1050.00          210.894864   \n",
       "1781         10.16          5.00         29.99           92.371111   \n",
       "1967         12.33          5.00         19.95          614.539010   \n",
       "2106          7.23          0.00         13.99          349.412006   \n",
       "2171         16.77          4.99         21.95          142.965000   \n",
       "\n",
       "      Min - Usage (MB)  Max - Usage (MB)  Total Usage (MB)  \\\n",
       "836           0.520000       1341.449951      31212.439860   \n",
       "1781         10.960000        212.570007       1662.679999   \n",
       "1967         47.610001       1313.390015       6145.390099   \n",
       "2106        137.320007        722.830017       1747.060028   \n",
       "2171        125.930000        160.000000        285.930000   \n",
       "\n",
       "      Usage per Flight (MB)  Usage (MB)/ Min  Min - Total Users  \\\n",
       "836              210.894864        21.089486                1.0   \n",
       "1781              92.371111         9.237111                1.0   \n",
       "1967             614.539010        61.453901                1.0   \n",
       "2106             349.412006        34.941201                2.0   \n",
       "2171             142.965000        14.296500                2.0   \n",
       "\n",
       "      Max - Total Users  diff_weeks  flight_per_week route1 route2  \n",
       "836                34.0   53.600595         2.761163    HND    ???  \n",
       "1781                5.0   46.994841         0.383021    MAD    ???  \n",
       "1967                9.0   33.037996         0.302682    HEL    ???  \n",
       "2106                6.0   24.062798         0.207790    YYZ    ???  \n",
       "2171                3.0   11.320536         0.176670    BKK    ???  "
      ]
     },
     "execution_count": 231,
     "metadata": {},
     "output_type": "execute_result"
    }
   ],
   "source": [
    "df_train[df_train['route2']=='???'].head()"
   ]
  },
  {
   "cell_type": "code",
   "execution_count": 329,
   "metadata": {},
   "outputs": [
    {
     "data": {
      "text/html": [
       "<div>\n",
       "<style scoped>\n",
       "    .dataframe tbody tr th:only-of-type {\n",
       "        vertical-align: middle;\n",
       "    }\n",
       "\n",
       "    .dataframe tbody tr th {\n",
       "        vertical-align: top;\n",
       "    }\n",
       "\n",
       "    .dataframe thead th {\n",
       "        text-align: right;\n",
       "    }\n",
       "</style>\n",
       "<table border=\"1\" class=\"dataframe\">\n",
       "  <thead>\n",
       "    <tr style=\"text-align: right;\">\n",
       "      <th></th>\n",
       "      <th>avg(a.Price)</th>\n",
       "    </tr>\n",
       "    <tr>\n",
       "      <th>route1</th>\n",
       "      <th></th>\n",
       "    </tr>\n",
       "  </thead>\n",
       "  <tbody>\n",
       "    <tr>\n",
       "      <th>TNA</th>\n",
       "      <td>550.000000</td>\n",
       "    </tr>\n",
       "    <tr>\n",
       "      <th>XFW</th>\n",
       "      <td>393.750000</td>\n",
       "    </tr>\n",
       "    <tr>\n",
       "      <th>AKJ</th>\n",
       "      <td>289.720000</td>\n",
       "    </tr>\n",
       "    <tr>\n",
       "      <th>TOY</th>\n",
       "      <td>145.882500</td>\n",
       "    </tr>\n",
       "    <tr>\n",
       "      <th>MMY</th>\n",
       "      <td>131.084000</td>\n",
       "    </tr>\n",
       "    <tr>\n",
       "      <th>FKS</th>\n",
       "      <td>121.895000</td>\n",
       "    </tr>\n",
       "    <tr>\n",
       "      <th>HKD</th>\n",
       "      <td>108.161667</td>\n",
       "    </tr>\n",
       "    <tr>\n",
       "      <th>NTQ</th>\n",
       "      <td>99.250000</td>\n",
       "    </tr>\n",
       "    <tr>\n",
       "      <th>ISG</th>\n",
       "      <td>96.771429</td>\n",
       "    </tr>\n",
       "    <tr>\n",
       "      <th>MMV</th>\n",
       "      <td>96.330000</td>\n",
       "    </tr>\n",
       "  </tbody>\n",
       "</table>\n",
       "</div>"
      ],
      "text/plain": [
       "        avg(a.Price)\n",
       "route1              \n",
       "TNA       550.000000\n",
       "XFW       393.750000\n",
       "AKJ       289.720000\n",
       "TOY       145.882500\n",
       "MMY       131.084000\n",
       "FKS       121.895000\n",
       "HKD       108.161667\n",
       "NTQ        99.250000\n",
       "ISG        96.771429\n",
       "MMV        96.330000"
      ]
     },
     "execution_count": 329,
     "metadata": {},
     "output_type": "execute_result"
    }
   ],
   "source": [
    "df_no_price_miss.groupby('route1').agg({'avg(a.Price)':'mean'}).sort_values('avg(a.Price)', ascending = False).head(10)"
   ]
  },
  {
   "cell_type": "code",
   "execution_count": 236,
   "metadata": {},
   "outputs": [
    {
     "data": {
      "text/html": [
       "<div>\n",
       "<style scoped>\n",
       "    .dataframe tbody tr th:only-of-type {\n",
       "        vertical-align: middle;\n",
       "    }\n",
       "\n",
       "    .dataframe tbody tr th {\n",
       "        vertical-align: top;\n",
       "    }\n",
       "\n",
       "    .dataframe thead th {\n",
       "        text-align: right;\n",
       "    }\n",
       "</style>\n",
       "<table border=\"1\" class=\"dataframe\">\n",
       "  <thead>\n",
       "    <tr style=\"text-align: right;\">\n",
       "      <th></th>\n",
       "      <th>Route</th>\n",
       "      <th>Flight Count</th>\n",
       "      <th>flight per week 1</th>\n",
       "      <th>flights per week 2</th>\n",
       "      <th>flights per week 3</th>\n",
       "      <th>flights per month 1</th>\n",
       "      <th>flights per month 2</th>\n",
       "      <th>flights per month 3</th>\n",
       "      <th>First Flow</th>\n",
       "      <th>Last Flown</th>\n",
       "      <th>Airline Count</th>\n",
       "      <th>First Airline</th>\n",
       "      <th>Last Airline</th>\n",
       "      <th>Aircraft Type Count</th>\n",
       "      <th>First Aircraft Type</th>\n",
       "      <th>Average of Avg - Flight Duration (MB)</th>\n",
       "      <th>Min of Min - Flight Duration (Hrs)</th>\n",
       "      <th>Max of Max - Flight Duration (Hrs)</th>\n",
       "      <th>Avg - Seat Count</th>\n",
       "      <th>Min - Seat Count</th>\n",
       "      <th>Max - Seat Count</th>\n",
       "      <th>Price per User</th>\n",
       "      <th>avg(a.Price)</th>\n",
       "      <th>min(a.Price)</th>\n",
       "      <th>max(a.Price)</th>\n",
       "      <th>Average Usage (MB)</th>\n",
       "      <th>Min - Usage (MB)</th>\n",
       "      <th>Max - Usage (MB)</th>\n",
       "      <th>Total Usage (MB)</th>\n",
       "      <th>Usage per Flight (MB)</th>\n",
       "      <th>Usage (MB)/ Min</th>\n",
       "      <th>Min - Total Users</th>\n",
       "      <th>Max - Total Users</th>\n",
       "      <th>diff_weeks</th>\n",
       "      <th>flight_per_week</th>\n",
       "      <th>route1</th>\n",
       "      <th>route2</th>\n",
       "    </tr>\n",
       "  </thead>\n",
       "  <tbody>\n",
       "    <tr>\n",
       "      <th>255</th>\n",
       "      <td>OIT-HND</td>\n",
       "      <td>1031</td>\n",
       "      <td>22.0</td>\n",
       "      <td>8.0</td>\n",
       "      <td>7.0</td>\n",
       "      <td>47.0</td>\n",
       "      <td>63.0</td>\n",
       "      <td>59.0</td>\n",
       "      <td>2017-07-01 22:50:00</td>\n",
       "      <td>2018-07-25 22:45:00</td>\n",
       "      <td>1</td>\n",
       "      <td>ANA</td>\n",
       "      <td>ANA</td>\n",
       "      <td>7</td>\n",
       "      <td>321-100</td>\n",
       "      <td>1.202599</td>\n",
       "      <td>0.97</td>\n",
       "      <td>1.97</td>\n",
       "      <td>176.4607</td>\n",
       "      <td>160</td>\n",
       "      <td>355</td>\n",
       "      <td>45.39</td>\n",
       "      <td>39.96</td>\n",
       "      <td>0.0</td>\n",
       "      <td>1050.0</td>\n",
       "      <td>299.898844</td>\n",
       "      <td>0.36</td>\n",
       "      <td>2265.120117</td>\n",
       "      <td>191935.2604</td>\n",
       "      <td>186.164171</td>\n",
       "      <td>2.579844</td>\n",
       "      <td>1.0</td>\n",
       "      <td>52.0</td>\n",
       "      <td>55.570933</td>\n",
       "      <td>18.552865</td>\n",
       "      <td>OIT</td>\n",
       "      <td>HND</td>\n",
       "    </tr>\n",
       "  </tbody>\n",
       "</table>\n",
       "</div>"
      ],
      "text/plain": [
       "       Route  Flight Count  flight per week 1  flights per week 2  \\\n",
       "255  OIT-HND          1031               22.0                 8.0   \n",
       "\n",
       "     flights per week 3  flights per month 1  flights per month 2  \\\n",
       "255                 7.0                 47.0                 63.0   \n",
       "\n",
       "     flights per month 3          First Flow          Last Flown  \\\n",
       "255                 59.0 2017-07-01 22:50:00 2018-07-25 22:45:00   \n",
       "\n",
       "     Airline Count First Airline Last Airline  Aircraft Type Count  \\\n",
       "255              1           ANA          ANA                    7   \n",
       "\n",
       "    First Aircraft Type  Average of Avg - Flight Duration (MB)  \\\n",
       "255             321-100                               1.202599   \n",
       "\n",
       "     Min of Min - Flight Duration (Hrs)  Max of Max - Flight Duration (Hrs)  \\\n",
       "255                                0.97                                1.97   \n",
       "\n",
       "     Avg - Seat Count  Min - Seat Count  Max - Seat Count  Price per User  \\\n",
       "255          176.4607               160               355           45.39   \n",
       "\n",
       "     avg(a.Price)  min(a.Price)  max(a.Price)  Average Usage (MB)  \\\n",
       "255         39.96           0.0        1050.0          299.898844   \n",
       "\n",
       "     Min - Usage (MB)  Max - Usage (MB)  Total Usage (MB)  \\\n",
       "255              0.36       2265.120117       191935.2604   \n",
       "\n",
       "     Usage per Flight (MB)  Usage (MB)/ Min  Min - Total Users  \\\n",
       "255             186.164171         2.579844                1.0   \n",
       "\n",
       "     Max - Total Users  diff_weeks  flight_per_week route1 route2  \n",
       "255               52.0   55.570933        18.552865    OIT    HND  "
      ]
     },
     "execution_count": 236,
     "metadata": {},
     "output_type": "execute_result"
    }
   ],
   "source": [
    "df_train[df_train['route1']=='OIT'].head()"
   ]
  },
  {
   "cell_type": "code",
   "execution_count": 332,
   "metadata": {},
   "outputs": [
    {
     "data": {
      "text/html": [
       "<div>\n",
       "<style scoped>\n",
       "    .dataframe tbody tr th:only-of-type {\n",
       "        vertical-align: middle;\n",
       "    }\n",
       "\n",
       "    .dataframe tbody tr th {\n",
       "        vertical-align: top;\n",
       "    }\n",
       "\n",
       "    .dataframe thead th {\n",
       "        text-align: right;\n",
       "    }\n",
       "</style>\n",
       "<table border=\"1\" class=\"dataframe\">\n",
       "  <thead>\n",
       "    <tr style=\"text-align: right;\">\n",
       "      <th></th>\n",
       "      <th>avg(a.Price)</th>\n",
       "    </tr>\n",
       "    <tr>\n",
       "      <th>route2</th>\n",
       "      <th></th>\n",
       "    </tr>\n",
       "  </thead>\n",
       "  <tbody>\n",
       "    <tr>\n",
       "      <th>OVB</th>\n",
       "      <td>393.750000</td>\n",
       "    </tr>\n",
       "    <tr>\n",
       "      <th>AKJ</th>\n",
       "      <td>382.855000</td>\n",
       "    </tr>\n",
       "    <tr>\n",
       "      <th>OIT</th>\n",
       "      <td>299.370000</td>\n",
       "    </tr>\n",
       "    <tr>\n",
       "      <th>TAK</th>\n",
       "      <td>203.240000</td>\n",
       "    </tr>\n",
       "    <tr>\n",
       "      <th>TOY</th>\n",
       "      <td>191.416667</td>\n",
       "    </tr>\n",
       "    <tr>\n",
       "      <th>NTQ</th>\n",
       "      <td>161.240000</td>\n",
       "    </tr>\n",
       "    <tr>\n",
       "      <th>KIJ</th>\n",
       "      <td>139.950000</td>\n",
       "    </tr>\n",
       "    <tr>\n",
       "      <th>MMY</th>\n",
       "      <td>122.694000</td>\n",
       "    </tr>\n",
       "    <tr>\n",
       "      <th>ISG</th>\n",
       "      <td>112.830000</td>\n",
       "    </tr>\n",
       "    <tr>\n",
       "      <th>MYJ</th>\n",
       "      <td>93.313333</td>\n",
       "    </tr>\n",
       "  </tbody>\n",
       "</table>\n",
       "</div>"
      ],
      "text/plain": [
       "        avg(a.Price)\n",
       "route2              \n",
       "OVB       393.750000\n",
       "AKJ       382.855000\n",
       "OIT       299.370000\n",
       "TAK       203.240000\n",
       "TOY       191.416667\n",
       "NTQ       161.240000\n",
       "KIJ       139.950000\n",
       "MMY       122.694000\n",
       "ISG       112.830000\n",
       "MYJ        93.313333"
      ]
     },
     "execution_count": 332,
     "metadata": {},
     "output_type": "execute_result"
    }
   ],
   "source": [
    "df_no_price_miss.groupby('route2').agg({'avg(a.Price)':'mean'}).sort_values('avg(a.Price)', ascending = False).head(10)"
   ]
  },
  {
   "cell_type": "code",
   "execution_count": 325,
   "metadata": {},
   "outputs": [
    {
     "data": {
      "text/plain": [
       "<matplotlib.axes._subplots.AxesSubplot at 0x1e48c18a668>"
      ]
     },
     "execution_count": 325,
     "metadata": {},
     "output_type": "execute_result"
    },
    {
     "data": {
      "image/png": "[encoded data removed]",
      "text/plain": [
       "<Figure size 432x288 with 1 Axes>"
      ]
     },
     "metadata": {
      "needs_background": "light"
     },
     "output_type": "display_data"
    }
   ],
   "source": [
    "sns.scatterplot(data = df_train, x = 'flight_per_week', y = 'avg(a.Price)')"
   ]
  },
  {
   "cell_type": "code",
   "execution_count": 326,
   "metadata": {},
   "outputs": [
    {
     "data": {
      "text/plain": [
       "<matplotlib.axes._subplots.AxesSubplot at 0x1e48c182fd0>"
      ]
     },
     "execution_count": 326,
     "metadata": {},
     "output_type": "execute_result"
    },
    {
     "data": {
      "image/png": "[encoded data removed]",
      "text/plain": [
       "<Figure size 432x288 with 1 Axes>"
      ]
     },
     "metadata": {
      "needs_background": "light"
     },
     "output_type": "display_data"
    }
   ],
   "source": [
    "sns.scatterplot(data = df_train, x = 'flight_per_week', y = 'Usage per Flight (MB)')"
   ]
  },
  {
   "cell_type": "markdown",
   "metadata": {},
   "source": [
    "### comments\n",
    "There are about 454 and 440 departure and arrival airports. The price may also related to the airport city, thus I created these two features as predictor."
   ]
  },
  {
   "cell_type": "markdown",
   "metadata": {},
   "source": [
    "### 2.2.3 Average of Avg - Flight Duration (MB)"
   ]
  },
  {
   "cell_type": "code",
   "execution_count": 243,
   "metadata": {},
   "outputs": [
    {
     "data": {
      "text/plain": [
       "count    3422.000000\n",
       "mean        4.407600\n",
       "std         3.497652\n",
       "min         0.170000\n",
       "25%         1.643081\n",
       "50%         3.173869\n",
       "75%         6.719651\n",
       "max        17.820000\n",
       "Name: Average of Avg - Flight Duration (MB), dtype: float64"
      ]
     },
     "execution_count": 243,
     "metadata": {},
     "output_type": "execute_result"
    }
   ],
   "source": [
    "df_train['Average of Avg - Flight Duration (MB)'].describe()"
   ]
  },
  {
   "cell_type": "code",
   "execution_count": 333,
   "metadata": {},
   "outputs": [
    {
     "data": {
      "text/plain": [
       "<matplotlib.axes._subplots.AxesSubplot at 0x1e48c325668>"
      ]
     },
     "execution_count": 333,
     "metadata": {},
     "output_type": "execute_result"
    },
    {
     "data": {
      "image/png": "[encoded data removed]",
      "text/plain": [
       "<Figure size 432x288 with 1 Axes>"
      ]
     },
     "metadata": {
      "needs_background": "light"
     },
     "output_type": "display_data"
    }
   ],
   "source": [
    "sns.scatterplot(data = df_train[df_train['avg(a.Price)']<25], x = 'Average of Avg - Flight Duration (MB)', y = 'avg(a.Price)')"
   ]
  },
  {
   "cell_type": "code",
   "execution_count": 349,
   "metadata": {},
   "outputs": [
    {
     "data": {
      "text/plain": [
       "<matplotlib.axes._subplots.AxesSubplot at 0x1e4feec6128>"
      ]
     },
     "execution_count": 349,
     "metadata": {},
     "output_type": "execute_result"
    },
    {
     "data": {
      "image/png": "[encoded data removed]",
      "text/plain": [
       "<Figure size 432x288 with 1 Axes>"
      ]
     },
     "metadata": {
      "needs_background": "light"
     },
     "output_type": "display_data"
    }
   ],
   "source": [
    "sns.regplot(data = df_train[(df_train['Price per User']<30)&(df_train['Price per User']>5)], x = 'Average of Avg - Flight Duration (MB)', y = 'Price per User', scatter_kws={\"color\": \"green\"})"
   ]
  },
  {
   "cell_type": "markdown",
   "metadata": {},
   "source": [
    "### 2.2.4 'Avg - Seat Count'"
   ]
  },
  {
   "cell_type": "code",
   "execution_count": 248,
   "metadata": {},
   "outputs": [
    {
     "data": {
      "text/plain": [
       "count    3422.000000\n",
       "mean      218.160579\n",
       "std        65.679458\n",
       "min        52.000000\n",
       "25%       168.327700\n",
       "50%       185.739600\n",
       "75%       270.623450\n",
       "max       417.000000\n",
       "Name: Avg - Seat Count, dtype: float64"
      ]
     },
     "execution_count": 248,
     "metadata": {},
     "output_type": "execute_result"
    }
   ],
   "source": [
    "df_train['Avg - Seat Count'].describe()"
   ]
  },
  {
   "cell_type": "code",
   "execution_count": 249,
   "metadata": {},
   "outputs": [
    {
     "data": {
      "text/plain": [
       "<matplotlib.axes._subplots.AxesSubplot at 0x1e488d83cf8>"
      ]
     },
     "execution_count": 249,
     "metadata": {},
     "output_type": "execute_result"
    },
    {
     "data": {
      "image/png": "[encoded data removed]",
      "text/plain": [
       "<Figure size 432x288 with 1 Axes>"
      ]
     },
     "metadata": {
      "needs_background": "light"
     },
     "output_type": "display_data"
    }
   ],
   "source": [
    "sns.scatterplot(data = df_train[df_train['avg(a.Price)']<100], x = 'Avg - Seat Count', y = 'avg(a.Price)')"
   ]
  },
  {
   "cell_type": "code",
   "execution_count": 352,
   "metadata": {},
   "outputs": [
    {
     "data": {
      "text/plain": [
       "<matplotlib.axes._subplots.AxesSubplot at 0x1e48493e438>"
      ]
     },
     "execution_count": 352,
     "metadata": {},
     "output_type": "execute_result"
    },
    {
     "data": {
      "image/png": "[encoded data removed]",
      "text/plain": [
       "<Figure size 432x288 with 1 Axes>"
      ]
     },
     "metadata": {
      "needs_background": "light"
     },
     "output_type": "display_data"
    }
   ],
   "source": [
    "sns.regplot(data = df_train[(df_train['Price per User']<30)&(df_train['Price per User']>5)], x = 'Avg - Seat Count', y = 'avg(a.Price)', scatter_kws={\"color\": \"green\"})"
   ]
  },
  {
   "cell_type": "markdown",
   "metadata": {},
   "source": [
    "### 2.2.5 Data Usage\n",
    "'Average Usage (MB)', 'Min - Usage (MB)', 'Max - Usage (MB)', 'Total Usage (MB)', 'Usage per Flight (MB)', 'Usage (MB)/ Min', 'Min - Total Users', 'Max - Total Users'"
   ]
  },
  {
   "cell_type": "code",
   "execution_count": 251,
   "metadata": {},
   "outputs": [
    {
     "data": {
      "image/png": "[encoded data removed]",
      "text/plain": [
       "<Figure size 720x432 with 2 Axes>"
      ]
     },
     "metadata": {
      "needs_background": "light"
     },
     "output_type": "display_data"
    }
   ],
   "source": [
    "data_usage_feature_list = ['Average Usage (MB)', 'Total Usage (MB)', 'Usage per Flight (MB)', 'Usage (MB)/ Min']\n",
    "fig, ax = plt.subplots(figsize = (10,6))\n",
    "cm_df = sns.heatmap(df_train[data_usage_feature_list].corr(), annot = True, fmt = \".2f\", cmap = 'coolwarm', ax = ax)"
   ]
  },
  {
   "cell_type": "code",
   "execution_count": 252,
   "metadata": {},
   "outputs": [
    {
     "data": {
      "text/plain": [
       "count     3422.000000\n",
       "mean       786.213022\n",
       "std       1189.176117\n",
       "min          0.020000\n",
       "25%         97.039999\n",
       "50%        318.381678\n",
       "75%        917.992848\n",
       "max      14419.870120\n",
       "Name: Average Usage (MB), dtype: float64"
      ]
     },
     "execution_count": 252,
     "metadata": {},
     "output_type": "execute_result"
    }
   ],
   "source": [
    "df_train['Average Usage (MB)'].describe()"
   ]
  },
  {
   "cell_type": "code",
   "execution_count": 289,
   "metadata": {},
   "outputs": [
    {
     "data": {
      "text/plain": [
       "<matplotlib.axes._subplots.AxesSubplot at 0x1e488cab0b8>"
      ]
     },
     "execution_count": 289,
     "metadata": {},
     "output_type": "execute_result"
    },
    {
     "data": {
      "image/png": "[encoded data removed]",
      "text/plain": [
       "<Figure size 432x288 with 1 Axes>"
      ]
     },
     "metadata": {
      "needs_background": "light"
     },
     "output_type": "display_data"
    }
   ],
   "source": [
    "sns.scatterplot(data = df_no_price_miss, x = 'Average Usage (MB)', y = 'avg(a.Price)')"
   ]
  },
  {
   "cell_type": "code",
   "execution_count": 254,
   "metadata": {},
   "outputs": [
    {
     "data": {
      "text/plain": [
       "count    3.422000e+03\n",
       "mean     1.094774e+05\n",
       "std      3.799420e+05\n",
       "min      2.000000e-02\n",
       "25%      5.143600e+02\n",
       "50%      4.207555e+03\n",
       "75%      4.041058e+04\n",
       "max      6.240478e+06\n",
       "Name: Total Usage (MB), dtype: float64"
      ]
     },
     "execution_count": 254,
     "metadata": {},
     "output_type": "execute_result"
    }
   ],
   "source": [
    "df_train['Total Usage (MB)'].describe()"
   ]
  },
  {
   "cell_type": "code",
   "execution_count": 358,
   "metadata": {},
   "outputs": [
    {
     "data": {
      "text/plain": [
       "<matplotlib.axes._subplots.AxesSubplot at 0x1e4860e2c50>"
      ]
     },
     "execution_count": 358,
     "metadata": {},
     "output_type": "execute_result"
    },
    {
     "data": {
      "image/png": "[encoded data removed]",
      "text/plain": [
       "<Figure size 432x288 with 1 Axes>"
      ]
     },
     "metadata": {
      "needs_background": "light"
     },
     "output_type": "display_data"
    }
   ],
   "source": [
    "sns.regplot(data = df_train[(df_train['avg(a.Price)']<30)&(df_train['avg(a.Price)']>5)], \\\n",
    "            x = 'Total Usage (MB)', y = 'avg(a.Price)', scatter_kws={\"color\": \"green\"})"
   ]
  },
  {
   "cell_type": "code",
   "execution_count": 374,
   "metadata": {},
   "outputs": [
    {
     "data": {
      "text/plain": [
       "(0.0, 10000.0)"
      ]
     },
     "execution_count": 374,
     "metadata": {},
     "output_type": "execute_result"
    },
    {
     "data": {
      "image/png": "[encoded data removed]",
      "text/plain": [
       "<Figure size 432x288 with 1 Axes>"
      ]
     },
     "metadata": {
      "needs_background": "light"
     },
     "output_type": "display_data"
    }
   ],
   "source": [
    "sns.regplot(data = df_train[(df_train['avg(a.Price)']<60)&(df_train['avg(a.Price)']>0)], \\\n",
    "            x = 'Average Usage (MB)', y = 'avg(a.Price)', scatter_kws={\"color\": \"green\"})\n",
    "plt.ylim(0, 60)\n",
    "plt.xlim(0, 10000)"
   ]
  },
  {
   "cell_type": "code",
   "execution_count": 257,
   "metadata": {},
   "outputs": [
    {
     "data": {
      "text/plain": [
       "count     3422.000000\n",
       "mean       515.336536\n",
       "std       1007.743546\n",
       "min          0.002778\n",
       "25%         39.994282\n",
       "50%        166.260204\n",
       "75%        444.704813\n",
       "max      14419.870120\n",
       "Name: Usage per Flight (MB), dtype: float64"
      ]
     },
     "execution_count": 257,
     "metadata": {},
     "output_type": "execute_result"
    }
   ],
   "source": [
    "df_train['Usage per Flight (MB)'].describe()"
   ]
  },
  {
   "cell_type": "code",
   "execution_count": 285,
   "metadata": {},
   "outputs": [
    {
     "data": {
      "text/plain": [
       "<matplotlib.axes._subplots.AxesSubplot at 0x1e48111fe80>"
      ]
     },
     "execution_count": 285,
     "metadata": {},
     "output_type": "execute_result"
    },
    {
     "data": {
      "image/png": "[encoded data removed]",
      "text/plain": [
       "<Figure size 432x288 with 1 Axes>"
      ]
     },
     "metadata": {
      "needs_background": "light"
     },
     "output_type": "display_data"
    }
   ],
   "source": [
    "sns.scatterplot(data = df_train[df_train['avg(a.Price)']<100], x = 'Usage per Flight (MB)', y = 'avg(a.Price)')"
   ]
  },
  {
   "cell_type": "code",
   "execution_count": 286,
   "metadata": {},
   "outputs": [
    {
     "data": {
      "text/plain": [
       "<matplotlib.axes._subplots.AxesSubplot at 0x1e481174f60>"
      ]
     },
     "execution_count": 286,
     "metadata": {},
     "output_type": "execute_result"
    },
    {
     "data": {
      "image/png": "[encoded data removed]",
      "text/plain": [
       "<Figure size 432x288 with 1 Axes>"
      ]
     },
     "metadata": {
      "needs_background": "light"
     },
     "output_type": "display_data"
    }
   ],
   "source": [
    "sns.scatterplot(data = df_train[df_train['max(a.Price)']<200], x = 'Usage per Flight (MB)', y = 'avg(a.Price)')"
   ]
  },
  {
   "cell_type": "code",
   "execution_count": 259,
   "metadata": {},
   "outputs": [
    {
     "data": {
      "text/plain": [
       "count    3422.000000\n",
       "mean        2.284971\n",
       "std         7.634427\n",
       "min         0.000067\n",
       "25%         0.242239\n",
       "50%         0.866365\n",
       "75%         2.311940\n",
       "max       284.316992\n",
       "Name: Usage (MB)/ Min, dtype: float64"
      ]
     },
     "execution_count": 259,
     "metadata": {},
     "output_type": "execute_result"
    }
   ],
   "source": [
    "df_train['Usage (MB)/ Min'].describe()"
   ]
  },
  {
   "cell_type": "code",
   "execution_count": 284,
   "metadata": {},
   "outputs": [
    {
     "data": {
      "text/plain": [
       "<matplotlib.axes._subplots.AxesSubplot at 0x1e489082748>"
      ]
     },
     "execution_count": 284,
     "metadata": {},
     "output_type": "execute_result"
    },
    {
     "data": {
      "image/png": "[encoded data removed]",
      "text/plain": [
       "<Figure size 432x288 with 1 Axes>"
      ]
     },
     "metadata": {
      "needs_background": "light"
     },
     "output_type": "display_data"
    }
   ],
   "source": [
    "sns.scatterplot(data = df_train[df_train['avg(a.Price)']<100], x = 'Usage (MB)/ Min', y = 'avg(a.Price)')"
   ]
  },
  {
   "cell_type": "code",
   "execution_count": 282,
   "metadata": {},
   "outputs": [
    {
     "data": {
      "text/plain": [
       "<matplotlib.axes._subplots.AxesSubplot at 0x1e485f9c860>"
      ]
     },
     "execution_count": 282,
     "metadata": {},
     "output_type": "execute_result"
    },
    {
     "data": {
      "image/png": "[encoded data removed]",
      "text/plain": [
       "<Figure size 432x288 with 1 Axes>"
      ]
     },
     "metadata": {
      "needs_background": "light"
     },
     "output_type": "display_data"
    }
   ],
   "source": [
    "sns.scatterplot(data = df_train[df_train['max(a.Price)']<200], x = 'Usage (MB)/ Min', y = 'max(a.Price)')"
   ]
  },
  {
   "cell_type": "markdown",
   "metadata": {},
   "source": [
    "### comments\n",
    "3)Generally, the average wifi price increases with the average usage volume of wifi. However, in certain routes, customers paid higher bills for very small data usage, while some customer paid cheap price for excessive wifi use. In the long term,  this mismatch between usage and price may cause customer dissatisfaction and reduced revenue for the service provider."
   ]
  },
  {
   "cell_type": "markdown",
   "metadata": {},
   "source": [
    "# 4. Implement Model"
   ]
  },
  {
   "cell_type": "code",
   "execution_count": 495,
   "metadata": {},
   "outputs": [],
   "source": [
    "#create a feature price_per_mb to identify the problematic prices\n",
    "df_no_price_miss['price_per_mb'] = df_no_price_miss['avg(a.Price)']/ df_no_price_miss['Average Usage (MB)']"
   ]
  },
  {
   "cell_type": "code",
   "execution_count": 496,
   "metadata": {},
   "outputs": [
    {
     "data": {
      "text/plain": [
       "count    3447.000000\n",
       "mean        0.321570\n",
       "std         7.985295\n",
       "min         0.000000\n",
       "25%         0.005231\n",
       "50%         0.022237\n",
       "75%         0.078829\n",
       "max       449.500000\n",
       "Name: price_per_mb, dtype: float64"
      ]
     },
     "execution_count": 496,
     "metadata": {},
     "output_type": "execute_result"
    }
   ],
   "source": [
    "df_no_price_miss['price_per_mb'].describe()"
   ]
  },
  {
   "cell_type": "code",
   "execution_count": 497,
   "metadata": {},
   "outputs": [
    {
     "data": {
      "text/plain": [
       "<matplotlib.axes._subplots.AxesSubplot at 0x1e495b27a90>"
      ]
     },
     "execution_count": 497,
     "metadata": {},
     "output_type": "execute_result"
    },
    {
     "data": {
      "image/png": "[encoded data removed]",
      "text/plain": [
       "<Figure size 432x288 with 1 Axes>"
      ]
     },
     "metadata": {
      "needs_background": "light"
     },
     "output_type": "display_data"
    }
   ],
   "source": [
    "df_no_price_miss['price_per_mb'].plot.hist(ylim=(0,100))"
   ]
  },
  {
   "cell_type": "code",
   "execution_count": 498,
   "metadata": {},
   "outputs": [
    {
     "data": {
      "text/plain": [
       "<matplotlib.axes._subplots.AxesSubplot at 0x1e495b4ad30>"
      ]
     },
     "execution_count": 498,
     "metadata": {},
     "output_type": "execute_result"
    },
    {
     "data": {
      "image/png": "[encoded data removed]",
      "text/plain": [
       "<Figure size 432x288 with 1 Axes>"
      ]
     },
     "metadata": {
      "needs_background": "light"
     },
     "output_type": "display_data"
    }
   ],
   "source": [
    "df_no_price_miss['price_per_mb'].loc[df_no_price_miss['price_per_mb']<100].plot.hist(ylim=(0,100))"
   ]
  },
  {
   "cell_type": "code",
   "execution_count": 499,
   "metadata": {},
   "outputs": [
    {
     "data": {
      "text/plain": [
       "(0.0, 10000.0)"
      ]
     },
     "execution_count": 499,
     "metadata": {},
     "output_type": "execute_result"
    },
    {
     "data": {
      "image/png": "[encoded data removed]",
      "text/plain": [
       "<Figure size 432x288 with 1 Axes>"
      ]
     },
     "metadata": {
      "needs_background": "light"
     },
     "output_type": "display_data"
    }
   ],
   "source": [
    "sns.regplot(data = df_train[(df_no_price_miss['price_per_mb']<0.03)&((df_no_price_miss['price_per_mb']>0.002))],\\\n",
    "            x = 'Average Usage (MB)', y = 'avg(a.Price)', scatter_kws={\"color\": \"green\"})\n",
    "plt.ylim(0, 60)\n",
    "plt.xlim(0, 10000)"
   ]
  },
  {
   "cell_type": "code",
   "execution_count": 500,
   "metadata": {},
   "outputs": [],
   "source": [
    "df_train = df_no_price_miss[~df_no_price_miss['Average Usage (MB)'].isnull()]"
   ]
  },
  {
   "cell_type": "code",
   "execution_count": 501,
   "metadata": {},
   "outputs": [],
   "source": [
    "df_train['First Flow'] = pd.to_datetime(df_train['First Flow']) \n",
    "df_train['Last Flown'] = pd.to_datetime(df_train['Last Flown'])"
   ]
  },
  {
   "cell_type": "code",
   "execution_count": 502,
   "metadata": {},
   "outputs": [],
   "source": [
    "df_train1 = df_train[(df_no_price_miss['price_per_mb']<0.03)&((df_no_price_miss['price_per_mb']>0.002))]\n",
    "df_test1 = df_train[(df_no_price_miss['price_per_mb']>=0.03)|((df_no_price_miss['price_per_mb']<=0.002))]"
   ]
  },
  {
   "cell_type": "code",
   "execution_count": 504,
   "metadata": {},
   "outputs": [],
   "source": [
    "# select the key features for model building \n",
    "df_train2 = df_train1[[\n",
    " 'Flight Count',   \n",
    " 'Average of Avg - Flight Duration (MB)',\n",
    " 'Avg - Seat Count',\n",
    " 'Average Usage (MB)',\n",
    " 'Total Usage (MB)',\n",
    " 'Usage per Flight (MB)',\n",
    "'avg(a.Price)']]"
   ]
  },
  {
   "cell_type": "code",
   "execution_count": 505,
   "metadata": {},
   "outputs": [],
   "source": [
    "df_test2 = df_test1[[\n",
    " 'Flight Count',   \n",
    " 'Average of Avg - Flight Duration (MB)',\n",
    " 'Avg - Seat Count',\n",
    " 'Average Usage (MB)',\n",
    " 'Total Usage (MB)',\n",
    " 'Usage per Flight (MB)',\n",
    "'avg(a.Price)']]"
   ]
  },
  {
   "cell_type": "code",
   "execution_count": 506,
   "metadata": {},
   "outputs": [],
   "source": [
    "X = df_train2[[\n",
    " 'Flight Count',   \n",
    " 'Average of Avg - Flight Duration (MB)',\n",
    " 'Avg - Seat Count',\n",
    " 'Average Usage (MB)',\n",
    " 'Total Usage (MB)',\n",
    " 'Usage per Flight (MB)']].values\n",
    "y = df_train2['avg(a.Price)'].values.reshape(-1,1)"
   ]
  },
  {
   "cell_type": "code",
   "execution_count": 508,
   "metadata": {},
   "outputs": [],
   "source": [
    "# use the random forest algorithm\n",
    "from sklearn.ensemble import RandomForestRegressor"
   ]
  },
  {
   "cell_type": "code",
   "execution_count": 509,
   "metadata": {},
   "outputs": [],
   "source": [
    "RF = RandomForestRegressor(n_estimators=100, random_state=100)"
   ]
  },
  {
   "cell_type": "code",
   "execution_count": 510,
   "metadata": {},
   "outputs": [
    {
     "data": {
      "text/plain": [
       "RandomForestRegressor(random_state=100)"
      ]
     },
     "execution_count": 510,
     "metadata": {},
     "output_type": "execute_result"
    }
   ],
   "source": [
    "RF.fit(X,y)"
   ]
  },
  {
   "cell_type": "code",
   "execution_count": 511,
   "metadata": {},
   "outputs": [],
   "source": [
    "y_pred = RF.predict(X)"
   ]
  },
  {
   "cell_type": "code",
   "execution_count": 426,
   "metadata": {},
   "outputs": [
    {
     "data": {
      "image/png": "[encoded data removed]",
      "text/plain": [
       "<Figure size 432x288 with 1 Axes>"
      ]
     },
     "metadata": {
      "needs_background": "light"
     },
     "output_type": "display_data"
    },
    {
     "data": {
      "text/plain": [
       "Text(0.5, 0, 'Average Usage (MB)')"
      ]
     },
     "execution_count": 426,
     "metadata": {},
     "output_type": "execute_result"
    },
    {
     "data": {
      "image/png": "[encoded data removed]",
      "text/plain": [
       "<Figure size 432x288 with 1 Axes>"
      ]
     },
     "metadata": {
      "needs_background": "light"
     },
     "output_type": "display_data"
    }
   ],
   "source": [
    "plt.scatter(df_train2['Average Usage (MB)'], y)\n",
    "plt.scatter(df_train2['Average Usage (MB)'], y_pred, color='red', marker = '+')\n",
    "plt.show()\n",
    "plt.xlabel('Average Usage (MB)')"
   ]
  },
  {
   "cell_type": "code",
   "execution_count": 512,
   "metadata": {},
   "outputs": [],
   "source": [
    "X_test = df_test2[[\n",
    " 'Flight Count',   \n",
    " 'Average of Avg - Flight Duration (MB)',\n",
    " 'Avg - Seat Count',\n",
    " 'Average Usage (MB)',\n",
    " 'Total Usage (MB)',\n",
    " 'Usage per Flight (MB)']].values"
   ]
  },
  {
   "cell_type": "code",
   "execution_count": 513,
   "metadata": {},
   "outputs": [],
   "source": [
    "y_pred_test = RF.predict(X_test)"
   ]
  },
  {
   "cell_type": "code",
   "execution_count": 514,
   "metadata": {},
   "outputs": [
    {
     "data": {
      "text/plain": [
       "array([11.9316, 12.2075, 14.1616, ...,  0.3702,  0.3899,  0.6443])"
      ]
     },
     "execution_count": 514,
     "metadata": {},
     "output_type": "execute_result"
    }
   ],
   "source": [
    "y_pred_test"
   ]
  },
  {
   "cell_type": "code",
   "execution_count": 515,
   "metadata": {},
   "outputs": [],
   "source": [
    "df_train3 = df_train"
   ]
  },
  {
   "cell_type": "code",
   "execution_count": 516,
   "metadata": {},
   "outputs": [],
   "source": [
    "df_train3['avg(a.Price)'].loc[(df_no_price_miss['price_per_mb']>=0.03)|((df_no_price_miss['price_per_mb']<=0.002))] = y_pred_test"
   ]
  },
  {
   "cell_type": "code",
   "execution_count": 518,
   "metadata": {},
   "outputs": [
    {
     "data": {
      "text/plain": [
       "(0.0, 10000.0)"
      ]
     },
     "execution_count": 518,
     "metadata": {},
     "output_type": "execute_result"
    },
    {
     "data": {
      "image/png": "[encoded data removed]",
      "text/plain": [
       "<Figure size 432x288 with 1 Axes>"
      ]
     },
     "metadata": {
      "needs_background": "light"
     },
     "output_type": "display_data"
    }
   ],
   "source": [
    "sns.scatterplot(data = df_train[(df_train['avg(a.Price)']<100)&(df_train['avg(a.Price)']>0)], \\\n",
    "            x = 'Average Usage (MB)', y = 'avg(a.Price)')\n",
    "plt.ylim(0, 100)\n",
    "plt.xlim(0, 10000)"
   ]
  },
  {
   "cell_type": "code",
   "execution_count": 519,
   "metadata": {},
   "outputs": [
    {
     "data": {
      "text/plain": [
       "(0.0, 10000.0)"
      ]
     },
     "execution_count": 519,
     "metadata": {},
     "output_type": "execute_result"
    },
    {
     "data": {
      "image/png": "[encoded data removed]",
      "text/plain": [
       "<Figure size 432x288 with 1 Axes>"
      ]
     },
     "metadata": {
      "needs_background": "light"
     },
     "output_type": "display_data"
    }
   ],
   "source": [
    "sns.scatterplot(data = df_train3[(df_train['avg(a.Price)']<100)&(df_train['avg(a.Price)']>0)], \\\n",
    "            x = 'Average Usage (MB)', y = 'avg(a.Price)')\n",
    "plt.ylim(0, 100)\n",
    "plt.xlim(0, 10000)"
   ]
  },
  {
   "cell_type": "code",
   "execution_count": 445,
   "metadata": {},
   "outputs": [
    {
     "data": {
      "text/plain": [
       "(0.0, 10000.0)"
      ]
     },
     "execution_count": 445,
     "metadata": {},
     "output_type": "execute_result"
    },
    {
     "data": {
      "image/png": "[encoded data removed]",
      "text/plain": [
       "<Figure size 432x288 with 1 Axes>"
      ]
     },
     "metadata": {
      "needs_background": "light"
     },
     "output_type": "display_data"
    }
   ],
   "source": [
    "sns.scatterplot(data = df_train1[(df_train1['avg(a.Price)']<60)&(df_train1['avg(a.Price)']>0)], \\\n",
    "            x = 'Average Usage (MB)', y = 'avg(a.Price)')\n",
    "plt.ylim(0, 60)\n",
    "plt.xlim(0, 10000)"
   ]
  },
  {
   "cell_type": "markdown",
   "metadata": {},
   "source": [
    "### Comments\n",
    "The average price predictive model was able to provide a reasonable In-Flight WiFi price reference for routes the price is either too high or too low. The result is pretty preliminary, not much models and parameters were tested. In the future, we can include more data if available or improve the result by using testing different models and fine-tuning the parameters."
   ]
  }
 ],
 "metadata": {
  "kernelspec": {
   "display_name": "Python 3",
   "language": "python",
   "name": "python3"
  },
  "language_info": {
   "codemirror_mode": {
    "name": "ipython",
    "version": 3
   },
   "file_extension": ".py",
   "mimetype": "text/x-python",
   "name": "python",
   "nbconvert_exporter": "python",
   "pygments_lexer": "ipython3",
   "version": "3.6.10"
  }
 },
 "nbformat": 4,
 "nbformat_minor": 4
}
